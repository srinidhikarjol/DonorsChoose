{
  "nbformat": 4,
  "nbformat_minor": 0,
  "metadata": {
    "colab": {
      "name": "DonorsChoose.ipynb",
      "provenance": [],
      "collapsed_sections": []
    },
    "kernelspec": {
      "name": "python3",
      "display_name": "Python 3"
    },
    "language_info": {
      "name": "python"
    }
  },
  "cells": [
    {
      "cell_type": "markdown",
      "metadata": {
        "id": "PkEtMscVTcEo"
      },
      "source": [
        "# **DonorsChoose Data Set**"
      ]
    },
    {
      "cell_type": "code",
      "source": [
        "from google.colab import drive\n",
        "drive.mount('/content/drive')"
      ],
      "metadata": {
        "colab": {
          "base_uri": "https://localhost:8080/"
        },
        "id": "m4ILMd5bRQor",
        "outputId": "200ae7d5-e866-47be-946b-37dd683c616d"
      },
      "execution_count": 1,
      "outputs": [
        {
          "output_type": "stream",
          "name": "stdout",
          "text": [
            "Drive already mounted at /content/drive; to attempt to forcibly remount, call drive.mount(\"/content/drive\", force_remount=True).\n"
          ]
        }
      ]
    },
    {
      "cell_type": "markdown",
      "metadata": {
        "id": "BLBlTptKTL1E"
      },
      "source": [
        "<p>\n",
        "DonorsChoose.org receives hundreds of thousands of project proposals each year for classroom projects in need of funding. Right now, a large number of volunteers is needed to manually screen each submission before it's approved to be posted on the DonorsChoose.org website.\n",
        "</p>\n",
        "<p>\n",
        "    Next year, DonorsChoose.org expects to receive close to 500,000 project proposals. As a result, there are three main problems they need to solve:\n",
        "<ul>\n",
        "<li>\n",
        "    How to scale current manual processes and resources to screen 500,000 projects so that they can be posted as quickly and as efficiently as possible</li>\n",
        "    <li>How to increase the consistency of project vetting across different volunteers to improve the experience for teachers</li>\n",
        "    <li>How to focus volunteer time on the applications that need the most assistance</li>\n",
        "    </ul>\n",
        "</p>    \n",
        "<p>\n",
        "The goal of the competition is to predict whether or not a DonorsChoose.org project proposal submitted by a teacher will be approved, using the text of project descriptions as well as additional metadata about the project, teacher, and school. DonorsChoose.org can then use this information to identify projects most likely to need further review before approval.\n",
        "</p>"
      ]
    },
    {
      "cell_type": "markdown",
      "metadata": {
        "id": "I_KOZQEwTL7S"
      },
      "source": [
        "## About the DonorsChoose Data Set\n",
        "\n",
        "The `train.csv` data set provided by DonorsChoose contains the following features:\n",
        "\n",
        "Feature | Description \n",
        "----------|---------------\n",
        "**`project_id`** | A unique identifier for the proposed project. **Example:** `p036502`   \n",
        "**`project_title`**    | Title of the project. **Examples:**<br><ul><li><code>Art Will Make You Happy!</code></li><li><code>First Grade Fun</code></li></ul> \n",
        "**`project_grade_category`** | Grade level of students for which the project is targeted. One of the following enumerated values: <br/><ul><li><code>Grades PreK-2</code></li><li><code>Grades 3-5</code></li><li><code>Grades 6-8</code></li><li><code>Grades 9-12</code></li></ul>  \n",
        " **`project_subject_categories`** | One or more (comma-separated) subject categories for the project from the following enumerated list of values:  <br/><ul><li><code>Applied Learning</code></li><li><code>Care &amp; Hunger</code></li><li><code>Health &amp; Sports</code></li><li><code>History &amp; Civics</code></li><li><code>Literacy &amp; Language</code></li><li><code>Math &amp; Science</code></li><li><code>Music &amp; The Arts</code></li><li><code>Special Needs</code></li><li><code>Warmth</code></li></ul><br/> **Examples:** <br/><ul><li><code>Music &amp; The Arts</code></li><li><code>Literacy &amp; Language, Math &amp; Science</code></li>  \n",
        "  **`school_state`** | State where school is located ([Two-letter U.S. postal code](https://en.wikipedia.org/wiki/List_of_U.S._state_abbreviations#Postal_codes)). **Example:** `WY`\n",
        "**`project_subject_subcategories`** | One or more (comma-separated) subject subcategories for the project. **Examples:** <br/><ul><li><code>Literacy</code></li><li><code>Literature &amp; Writing, Social Sciences</code></li></ul> \n",
        "**`project_resource_summary`** | An explanation of the resources needed for the project. **Example:** <br/><ul><li><code>My students need hands on literacy materials to manage sensory needs!</code</li></ul> \n",
        "**`project_essay_1`**    | First application essay<sup>*</sup>  \n",
        "**`project_essay_2`**    | Second application essay<sup>*</sup> \n",
        "**`project_essay_3`**    | Third application essay<sup>*</sup> \n",
        "**`project_essay_4`**    | Fourth application essay<sup>*</sup> \n",
        "**`project_submitted_datetime`** | Datetime when project application was submitted. **Example:** `2016-04-28 12:43:56.245`   \n",
        "**`teacher_id`** | A unique identifier for the teacher of the proposed project. **Example:** `bdf8baa8fedef6bfeec7ae4ff1c15c56`  \n",
        "**`teacher_prefix`** | Teacher's title. One of the following enumerated values: <br/><ul><li><code>nan</code></li><li><code>Dr.</code></li><li><code>Mr.</code></li><li><code>Mrs.</code></li><li><code>Ms.</code></li><li><code>Teacher.</code></li></ul>  \n",
        "**`teacher_number_of_previously_posted_projects`** | Number of project applications previously submitted by the same teacher. **Example:** `2` \n",
        "\n",
        "<sup>*</sup> See the section <b>Notes on the Essay Data</b> for more details about these features.\n",
        "\n",
        "Additionally, the `resources.csv` data set provides more data about the resources required for each project. Each line in this file represents a resource required by a project:\n",
        "\n",
        "Feature | Description \n",
        "----------|---------------\n",
        "**`id`** | A `project_id` value from the `train.csv` file.  **Example:** `p036502`   \n",
        "**`description`** | Desciption of the resource. **Example:** `Tenor Saxophone Reeds, Box of 25`   \n",
        "**`quantity`** | Quantity of the resource required. **Example:** `3`   \n",
        "**`price`** | Price of the resource required. **Example:** `9.95`   \n",
        "\n",
        "**Note:** Many projects require multiple resources. The `id` value corresponds to a `project_id` in train.csv, so you use it as a key to retrieve all resources needed for a project:\n",
        "\n",
        "The data set contains the following label (the value you will attempt to predict):\n",
        "\n",
        "Label | Description\n",
        "----------|---------------\n",
        "`project_is_approved` | A binary flag indicating whether DonorsChoose approved the project. A value of `0` indicates the project was not approved, and a value of `1` indicates the project was approved."
      ]
    },
    {
      "cell_type": "markdown",
      "metadata": {
        "id": "2fIenc5sTL-h"
      },
      "source": [
        "### Notes on the Essay Data\n",
        "\n",
        "<ul>\n",
        "Prior to May 17, 2016, the prompts for the essays were as follows:\n",
        "<li>__project_essay_1:__ \"Introduce us to your classroom\"</li>\n",
        "<li>__project_essay_2:__ \"Tell us more about your students\"</li>\n",
        "<li>__project_essay_3:__ \"Describe how your students will use the materials you're requesting\"</li>\n",
        "<li>__project_essay_3:__ \"Close by sharing why your project will make a difference\"</li>\n",
        "</ul>\n",
        "\n",
        "\n",
        "<ul>\n",
        "Starting on May 17, 2016, the number of essays was reduced from 4 to 2, and the prompts for the first 2 essays were changed to the following:<br>\n",
        "<li>__project_essay_1:__ \"Describe your students: What makes your students special? Specific details about their background, your neighborhood, and your school are all helpful.\"</li>\n",
        "<li>__project_essay_2:__ \"About your project: How will these materials make a difference in your students' learning and improve their school lives?\"</li>\n",
        "<br>For all projects with project_submitted_datetime of 2016-05-17 and later, the values of project_essay_3 and project_essay_4 will be NaN.\n",
        "</ul>\n"
      ]
    },
    {
      "cell_type": "code",
      "metadata": {
        "id": "5qArYKXrTi-L"
      },
      "source": [
        "%matplotlib inline\n",
        "import warnings\n",
        "warnings.filterwarnings(\"ignore\")\n",
        "\n",
        "import sqlite3\n",
        "import pandas as pd\n",
        "import numpy as np\n",
        "import nltk\n",
        "import string\n",
        "import matplotlib.pyplot as plt\n",
        "import seaborn as sns\n",
        "from sklearn.feature_extraction.text import TfidfTransformer\n",
        "from sklearn.feature_extraction.text import TfidfVectorizer\n",
        "\n",
        "from sklearn.feature_extraction.text import CountVectorizer\n",
        "from sklearn.metrics import confusion_matrix\n",
        "from sklearn import metrics\n",
        "from sklearn.metrics import roc_curve, auc\n",
        "from nltk.stem.porter import PorterStemmer\n",
        "\n",
        "import re\n",
        "# Tutorial about Python regular expressions: https://pymotw.com/2/re/\n",
        "import string\n",
        "from nltk.corpus import stopwords\n",
        "from nltk.stem import PorterStemmer\n",
        "from nltk.stem.wordnet import WordNetLemmatizer\n",
        "\n",
        "from gensim.models import Word2Vec\n",
        "from gensim.models import KeyedVectors\n",
        "import pickle\n",
        "\n",
        "from tqdm import tqdm\n",
        "import os\n",
        "from collections import Counter"
      ],
      "execution_count": 2,
      "outputs": []
    },
    {
      "cell_type": "markdown",
      "metadata": {
        "id": "3p5HZASbXOR9"
      },
      "source": [
        "# 1.Reading Data"
      ]
    },
    {
      "cell_type": "code",
      "metadata": {
        "id": "2-fTd5ysXS8h"
      },
      "source": [
        "project_data = pd.read_csv('/content/drive/MyDrive/Copy of train_data.csv',nrows=50000)\n",
        "resource_data = pd.read_csv('/content/drive/MyDrive/Copy of resources.csv')\n",
        "\n",
        "# Features to be considered - \n",
        "#  project_grade_category\n",
        "#  teacher_prefix\n",
        "#  project_title\n",
        "#  school_state\n",
        "#  essay\n",
        "#  project_subject_category\n",
        "#  project_subject_sub_category\n",
        "#  price\n",
        "#  teacher_number_of_previously_posted_projects\n"
      ],
      "execution_count": 3,
      "outputs": []
    },
    {
      "cell_type": "code",
      "metadata": {
        "id": "tyRoXYgZXZWf",
        "outputId": "432fb2f0-9389-4e86-daec-124f4e2d4819",
        "colab": {
          "base_uri": "https://localhost:8080/"
        }
      },
      "source": [
        "print(\"Number of data points in train data\",project_data.shape)\n",
        "print('-'*50)\n",
        "print(\"The attributes of data are - \",project_data.columns.values)"
      ],
      "execution_count": 4,
      "outputs": [
        {
          "output_type": "stream",
          "name": "stdout",
          "text": [
            "Number of data points in train data (50000, 17)\n",
            "--------------------------------------------------\n",
            "The attributes of data are -  ['Unnamed: 0' 'id' 'teacher_id' 'teacher_prefix' 'school_state'\n",
            " 'project_submitted_datetime' 'project_grade_category'\n",
            " 'project_subject_categories' 'project_subject_subcategories'\n",
            " 'project_title' 'project_essay_1' 'project_essay_2' 'project_essay_3'\n",
            " 'project_essay_4' 'project_resource_summary'\n",
            " 'teacher_number_of_previously_posted_projects' 'project_is_approved']\n"
          ]
        }
      ]
    },
    {
      "cell_type": "code",
      "metadata": {
        "id": "gKKcasWwXtIt",
        "outputId": "ba17d2b0-7b91-4c5f-a2b5-593821c05c8a",
        "colab": {
          "base_uri": "https://localhost:8080/",
          "height": 147
        }
      },
      "source": [
        "print(\"Number of data points in train data\", resource_data.shape)\n",
        "print(resource_data.columns.values)\n",
        "resource_data.head(2)"
      ],
      "execution_count": 5,
      "outputs": [
        {
          "output_type": "stream",
          "name": "stdout",
          "text": [
            "Number of data points in train data (1541272, 4)\n",
            "['id' 'description' 'quantity' 'price']\n"
          ]
        },
        {
          "output_type": "execute_result",
          "data": {
            "text/plain": [
              "        id                                        description  quantity  \\\n",
              "0  p233245  LC652 - Lakeshore Double-Space Mobile Drying Rack         1   \n",
              "1  p069063        Bouncy Bands for Desks (Blue support pipes)         3   \n",
              "\n",
              "    price  \n",
              "0  149.00  \n",
              "1   14.95  "
            ],
            "text/html": [
              "\n",
              "  <div id=\"df-84f97ff4-9b01-4386-97c2-beb6499b3802\">\n",
              "    <div class=\"colab-df-container\">\n",
              "      <div>\n",
              "<style scoped>\n",
              "    .dataframe tbody tr th:only-of-type {\n",
              "        vertical-align: middle;\n",
              "    }\n",
              "\n",
              "    .dataframe tbody tr th {\n",
              "        vertical-align: top;\n",
              "    }\n",
              "\n",
              "    .dataframe thead th {\n",
              "        text-align: right;\n",
              "    }\n",
              "</style>\n",
              "<table border=\"1\" class=\"dataframe\">\n",
              "  <thead>\n",
              "    <tr style=\"text-align: right;\">\n",
              "      <th></th>\n",
              "      <th>id</th>\n",
              "      <th>description</th>\n",
              "      <th>quantity</th>\n",
              "      <th>price</th>\n",
              "    </tr>\n",
              "  </thead>\n",
              "  <tbody>\n",
              "    <tr>\n",
              "      <th>0</th>\n",
              "      <td>p233245</td>\n",
              "      <td>LC652 - Lakeshore Double-Space Mobile Drying Rack</td>\n",
              "      <td>1</td>\n",
              "      <td>149.00</td>\n",
              "    </tr>\n",
              "    <tr>\n",
              "      <th>1</th>\n",
              "      <td>p069063</td>\n",
              "      <td>Bouncy Bands for Desks (Blue support pipes)</td>\n",
              "      <td>3</td>\n",
              "      <td>14.95</td>\n",
              "    </tr>\n",
              "  </tbody>\n",
              "</table>\n",
              "</div>\n",
              "      <button class=\"colab-df-convert\" onclick=\"convertToInteractive('df-84f97ff4-9b01-4386-97c2-beb6499b3802')\"\n",
              "              title=\"Convert this dataframe to an interactive table.\"\n",
              "              style=\"display:none;\">\n",
              "        \n",
              "  <svg xmlns=\"http://www.w3.org/2000/svg\" height=\"24px\"viewBox=\"0 0 24 24\"\n",
              "       width=\"24px\">\n",
              "    <path d=\"M0 0h24v24H0V0z\" fill=\"none\"/>\n",
              "    <path d=\"M18.56 5.44l.94 2.06.94-2.06 2.06-.94-2.06-.94-.94-2.06-.94 2.06-2.06.94zm-11 1L8.5 8.5l.94-2.06 2.06-.94-2.06-.94L8.5 2.5l-.94 2.06-2.06.94zm10 10l.94 2.06.94-2.06 2.06-.94-2.06-.94-.94-2.06-.94 2.06-2.06.94z\"/><path d=\"M17.41 7.96l-1.37-1.37c-.4-.4-.92-.59-1.43-.59-.52 0-1.04.2-1.43.59L10.3 9.45l-7.72 7.72c-.78.78-.78 2.05 0 2.83L4 21.41c.39.39.9.59 1.41.59.51 0 1.02-.2 1.41-.59l7.78-7.78 2.81-2.81c.8-.78.8-2.07 0-2.86zM5.41 20L4 18.59l7.72-7.72 1.47 1.35L5.41 20z\"/>\n",
              "  </svg>\n",
              "      </button>\n",
              "      \n",
              "  <style>\n",
              "    .colab-df-container {\n",
              "      display:flex;\n",
              "      flex-wrap:wrap;\n",
              "      gap: 12px;\n",
              "    }\n",
              "\n",
              "    .colab-df-convert {\n",
              "      background-color: #E8F0FE;\n",
              "      border: none;\n",
              "      border-radius: 50%;\n",
              "      cursor: pointer;\n",
              "      display: none;\n",
              "      fill: #1967D2;\n",
              "      height: 32px;\n",
              "      padding: 0 0 0 0;\n",
              "      width: 32px;\n",
              "    }\n",
              "\n",
              "    .colab-df-convert:hover {\n",
              "      background-color: #E2EBFA;\n",
              "      box-shadow: 0px 1px 2px rgba(60, 64, 67, 0.3), 0px 1px 3px 1px rgba(60, 64, 67, 0.15);\n",
              "      fill: #174EA6;\n",
              "    }\n",
              "\n",
              "    [theme=dark] .colab-df-convert {\n",
              "      background-color: #3B4455;\n",
              "      fill: #D2E3FC;\n",
              "    }\n",
              "\n",
              "    [theme=dark] .colab-df-convert:hover {\n",
              "      background-color: #434B5C;\n",
              "      box-shadow: 0px 1px 3px 1px rgba(0, 0, 0, 0.15);\n",
              "      filter: drop-shadow(0px 1px 2px rgba(0, 0, 0, 0.3));\n",
              "      fill: #FFFFFF;\n",
              "    }\n",
              "  </style>\n",
              "\n",
              "      <script>\n",
              "        const buttonEl =\n",
              "          document.querySelector('#df-84f97ff4-9b01-4386-97c2-beb6499b3802 button.colab-df-convert');\n",
              "        buttonEl.style.display =\n",
              "          google.colab.kernel.accessAllowed ? 'block' : 'none';\n",
              "\n",
              "        async function convertToInteractive(key) {\n",
              "          const element = document.querySelector('#df-84f97ff4-9b01-4386-97c2-beb6499b3802');\n",
              "          const dataTable =\n",
              "            await google.colab.kernel.invokeFunction('convertToInteractive',\n",
              "                                                     [key], {});\n",
              "          if (!dataTable) return;\n",
              "\n",
              "          const docLinkHtml = 'Like what you see? Visit the ' +\n",
              "            '<a target=\"_blank\" href=https://colab.research.google.com/notebooks/data_table.ipynb>data table notebook</a>'\n",
              "            + ' to learn more about interactive tables.';\n",
              "          element.innerHTML = '';\n",
              "          dataTable['output_type'] = 'display_data';\n",
              "          await google.colab.output.renderOutput(dataTable, element);\n",
              "          const docLink = document.createElement('div');\n",
              "          docLink.innerHTML = docLinkHtml;\n",
              "          element.appendChild(docLink);\n",
              "        }\n",
              "      </script>\n",
              "    </div>\n",
              "  </div>\n",
              "  "
            ]
          },
          "metadata": {},
          "execution_count": 5
        }
      ]
    },
    {
      "cell_type": "markdown",
      "metadata": {
        "id": "gKPSMdjSYFmM"
      },
      "source": [
        "##  preprocessing of `project_grade_category` - Categorical feature"
      ]
    },
    {
      "cell_type": "code",
      "metadata": {
        "id": "v2eysNTTYCpV",
        "outputId": "5b321ca8-35b1-4b33-fe05-84d4a926e547",
        "colab": {
          "base_uri": "https://localhost:8080/"
        }
      },
      "source": [
        "print(project_data['project_grade_category'].value_counts())"
      ],
      "execution_count": 6,
      "outputs": [
        {
          "output_type": "stream",
          "name": "stdout",
          "text": [
            "Grades PreK-2    20316\n",
            "Grades 3-5       16968\n",
            "Grades 6-8        7750\n",
            "Grades 9-12       4966\n",
            "Name: project_grade_category, dtype: int64\n"
          ]
        }
      ]
    },
    {
      "cell_type": "code",
      "metadata": {
        "id": "aa8QKAASZ_In"
      },
      "source": [
        "# As a part of pre-processing we need to replace space with '_' and '-' with '_'. Also convert all the letters to lower case"
      ],
      "execution_count": 7,
      "outputs": []
    },
    {
      "cell_type": "code",
      "metadata": {
        "id": "WFx3RLXpaWxD",
        "outputId": "336dd268-dc2e-4fd6-afec-e9a8bca3b4c2",
        "colab": {
          "base_uri": "https://localhost:8080/"
        }
      },
      "source": [
        "project_data['project_grade_category'] = project_data['project_grade_category'].str.replace(' ','_')\n",
        "project_data['project_grade_category'] = project_data['project_grade_category'].str.replace('-','_')\n",
        "project_data['project_grade_category'] = project_data['project_grade_category'].str.lower()\n",
        "project_data['project_grade_category'].value_counts()"
      ],
      "execution_count": 8,
      "outputs": [
        {
          "output_type": "execute_result",
          "data": {
            "text/plain": [
              "grades_prek_2    20316\n",
              "grades_3_5       16968\n",
              "grades_6_8        7750\n",
              "grades_9_12       4966\n",
              "Name: project_grade_category, dtype: int64"
            ]
          },
          "metadata": {},
          "execution_count": 8
        }
      ]
    },
    {
      "cell_type": "markdown",
      "metadata": {
        "id": "01ZDnBFQbMlz"
      },
      "source": [
        "# Preprocessing Categorical Features: project_subject_categories\n",
        "\n"
      ]
    },
    {
      "cell_type": "code",
      "metadata": {
        "id": "8-M1MrNaaofl",
        "outputId": "9f16ce2c-4a7d-440e-8d16-a89aec2fd086",
        "colab": {
          "base_uri": "https://localhost:8080/"
        }
      },
      "source": [
        "print(project_data['project_subject_categories'].value_counts())"
      ],
      "execution_count": 9,
      "outputs": [
        {
          "output_type": "stream",
          "name": "stdout",
          "text": [
            "Literacy & Language                           10927\n",
            "Math & Science                                 7695\n",
            "Literacy & Language, Math & Science            6705\n",
            "Health & Sports                                4700\n",
            "Music & The Arts                               2358\n",
            "Special Needs                                  1913\n",
            "Literacy & Language, Special Needs             1814\n",
            "Applied Learning                               1719\n",
            "Math & Science, Literacy & Language            1041\n",
            "Applied Learning, Literacy & Language          1018\n",
            "Math & Science, Special Needs                   871\n",
            "History & Civics                                839\n",
            "Literacy & Language, Music & The Arts           794\n",
            "Math & Science, Music & The Arts                755\n",
            "Applied Learning, Special Needs                 672\n",
            "History & Civics, Literacy & Language           651\n",
            "Health & Sports, Special Needs                  633\n",
            "Warmth, Care & Hunger                           606\n",
            "Math & Science, Applied Learning                565\n",
            "Applied Learning, Math & Science                477\n",
            "Health & Sports, Literacy & Language            369\n",
            "Literacy & Language, History & Civics           363\n",
            "Applied Learning, Music & The Arts              360\n",
            "Math & Science, History & Civics                282\n",
            "Literacy & Language, Applied Learning           280\n",
            "Applied Learning, Health & Sports               264\n",
            "Math & Science, Health & Sports                 187\n",
            "History & Civics, Math & Science                171\n",
            "Special Needs, Music & The Arts                 140\n",
            "History & Civics, Music & The Arts              135\n",
            "Health & Sports, Math & Science                 118\n",
            "History & Civics, Special Needs                 103\n",
            "Health & Sports, Applied Learning                99\n",
            "Applied Learning, History & Civics               78\n",
            "Music & The Arts, Special Needs                  67\n",
            "Health & Sports, Music & The Arts                66\n",
            "Literacy & Language, Health & Sports             33\n",
            "Health & Sports, History & Civics                25\n",
            "History & Civics, Applied Learning               25\n",
            "Special Needs, Health & Sports                   14\n",
            "Health & Sports, Warmth, Care & Hunger           12\n",
            "Music & The Arts, Health & Sports                10\n",
            "Music & The Arts, History & Civics                9\n",
            "History & Civics, Health & Sports                 8\n",
            "Applied Learning, Warmth, Care & Hunger           8\n",
            "Math & Science, Warmth, Care & Hunger             7\n",
            "Special Needs, Warmth, Care & Hunger              6\n",
            "Music & The Arts, Applied Learning                4\n",
            "Literacy & Language, Warmth, Care & Hunger        3\n",
            "Music & The Arts, Warmth, Care & Hunger           1\n",
            "Name: project_subject_categories, dtype: int64\n"
          ]
        }
      ]
    },
    {
      "cell_type": "code",
      "metadata": {
        "id": "eB_lihn6ba8c",
        "outputId": "5cb00f13-4c1e-42d6-c72f-1acf441f505d",
        "colab": {
          "base_uri": "https://localhost:8080/"
        }
      },
      "source": [
        "project_data['project_subject_categories'] = project_data['project_subject_categories'].str.replace(' The ','')\n",
        "project_data['project_subject_categories'] = project_data['project_subject_categories'].str.replace(' ','')\n",
        "project_data['project_subject_categories'] = project_data['project_subject_categories'].str.replace('&','_')\n",
        "project_data['project_subject_categories'] = project_data['project_subject_categories'].str.replace(',','_')\n",
        "project_data['project_subject_categories'] = project_data['project_subject_categories'].str.lower()\n",
        "project_data['project_subject_categories'].value_counts()"
      ],
      "execution_count": 10,
      "outputs": [
        {
          "output_type": "execute_result",
          "data": {
            "text/plain": [
              "literacy_language                       10927\n",
              "math_science                             7695\n",
              "literacy_language_math_science           6705\n",
              "health_sports                            4700\n",
              "music_arts                               2358\n",
              "specialneeds                             1913\n",
              "literacy_language_specialneeds           1814\n",
              "appliedlearning                          1719\n",
              "math_science_literacy_language           1041\n",
              "appliedlearning_literacy_language        1018\n",
              "math_science_specialneeds                 871\n",
              "history_civics                            839\n",
              "literacy_language_music_arts              794\n",
              "math_science_music_arts                   755\n",
              "appliedlearning_specialneeds              672\n",
              "history_civics_literacy_language          651\n",
              "health_sports_specialneeds                633\n",
              "warmth_care_hunger                        606\n",
              "math_science_appliedlearning              565\n",
              "appliedlearning_math_science              477\n",
              "health_sports_literacy_language           369\n",
              "literacy_language_history_civics          363\n",
              "appliedlearning_music_arts                360\n",
              "math_science_history_civics               282\n",
              "literacy_language_appliedlearning         280\n",
              "appliedlearning_health_sports             264\n",
              "math_science_health_sports                187\n",
              "history_civics_math_science               171\n",
              "specialneeds_music_arts                   140\n",
              "history_civics_music_arts                 135\n",
              "health_sports_math_science                118\n",
              "history_civics_specialneeds               103\n",
              "health_sports_appliedlearning              99\n",
              "appliedlearning_history_civics             78\n",
              "music_arts_specialneeds                    67\n",
              "health_sports_music_arts                   66\n",
              "literacy_language_health_sports            33\n",
              "health_sports_history_civics               25\n",
              "history_civics_appliedlearning             25\n",
              "specialneeds_health_sports                 14\n",
              "health_sports_warmth_care_hunger           12\n",
              "music_arts_health_sports                   10\n",
              "music_arts_history_civics                   9\n",
              "history_civics_health_sports                8\n",
              "appliedlearning_warmth_care_hunger          8\n",
              "math_science_warmth_care_hunger             7\n",
              "specialneeds_warmth_care_hunger             6\n",
              "music_arts_appliedlearning                  4\n",
              "literacy_language_warmth_care_hunger        3\n",
              "music_arts_warmth_care_hunger               1\n",
              "Name: project_subject_categories, dtype: int64"
            ]
          },
          "metadata": {},
          "execution_count": 10
        }
      ]
    },
    {
      "cell_type": "markdown",
      "metadata": {
        "id": "l3oOtg7ab4zH"
      },
      "source": [
        "# Preprocessing Categorical Features: teacher_prefix"
      ]
    },
    {
      "cell_type": "code",
      "metadata": {
        "id": "47qEmmN4beL0",
        "outputId": "c80088a7-2c5b-4822-98bf-a32706a596da",
        "colab": {
          "base_uri": "https://localhost:8080/"
        }
      },
      "source": [
        "print(project_data['teacher_prefix'].value_counts())"
      ],
      "execution_count": 11,
      "outputs": [
        {
          "output_type": "stream",
          "name": "stdout",
          "text": [
            "Mrs.       26140\n",
            "Ms.        17936\n",
            "Mr.         4859\n",
            "Teacher     1061\n",
            "Dr.            2\n",
            "Name: teacher_prefix, dtype: int64\n"
          ]
        }
      ]
    },
    {
      "cell_type": "code",
      "metadata": {
        "id": "JrpJz3AycBWf"
      },
      "source": [
        "project_data['teacher_prefix'] = project_data['teacher_prefix'].fillna('Mrs.')"
      ],
      "execution_count": 12,
      "outputs": []
    },
    {
      "cell_type": "code",
      "metadata": {
        "id": "zF0jBTmCcYIZ",
        "outputId": "37cb9157-af21-4233-de00-9e6e785ad308",
        "colab": {
          "base_uri": "https://localhost:8080/"
        }
      },
      "source": [
        "print(project_data['teacher_prefix'].value_counts())"
      ],
      "execution_count": 13,
      "outputs": [
        {
          "output_type": "stream",
          "name": "stdout",
          "text": [
            "Mrs.       26142\n",
            "Ms.        17936\n",
            "Mr.         4859\n",
            "Teacher     1061\n",
            "Dr.            2\n",
            "Name: teacher_prefix, dtype: int64\n"
          ]
        }
      ]
    },
    {
      "cell_type": "code",
      "metadata": {
        "id": "ePF7D7otcboJ",
        "outputId": "4a4427dd-5e05-4063-d5f9-d7db1459016f",
        "colab": {
          "base_uri": "https://localhost:8080/"
        }
      },
      "source": [
        "project_data['teacher_prefix'] = project_data['teacher_prefix'].str.replace('.','')\n",
        "project_data['teacher_prefix'] = project_data['teacher_prefix'].str.lower()\n",
        "project_data['teacher_prefix'].value_counts()"
      ],
      "execution_count": 14,
      "outputs": [
        {
          "output_type": "execute_result",
          "data": {
            "text/plain": [
              "mrs        26142\n",
              "ms         17936\n",
              "mr          4859\n",
              "teacher     1061\n",
              "dr             2\n",
              "Name: teacher_prefix, dtype: int64"
            ]
          },
          "metadata": {},
          "execution_count": 14
        }
      ]
    },
    {
      "cell_type": "markdown",
      "metadata": {
        "id": "A48EpcXfcqcq"
      },
      "source": [
        "#  Preprocessing Categorical Features: project_subject_subcategories"
      ]
    },
    {
      "cell_type": "code",
      "metadata": {
        "id": "3tA9yBCJcsWT",
        "outputId": "425068eb-37ea-4293-afa9-a4575c1a07bd",
        "colab": {
          "base_uri": "https://localhost:8080/"
        }
      },
      "source": [
        "print(project_data['project_subject_subcategories'].value_counts())"
      ],
      "execution_count": 15,
      "outputs": [
        {
          "output_type": "stream",
          "name": "stdout",
          "text": [
            "Literacy                                   4434\n",
            "Literacy, Mathematics                      3833\n",
            "Literature & Writing, Mathematics          2705\n",
            "Literacy, Literature & Writing             2570\n",
            "Mathematics                                2441\n",
            "                                           ... \n",
            "College & Career Prep, Gym & Fitness          1\n",
            "Character Education, Financial Literacy       1\n",
            "Gym & Fitness, Social Sciences                1\n",
            "Parent Involvement, Team Sports               1\n",
            "Financial Literacy, Parent Involvement        1\n",
            "Name: project_subject_subcategories, Length: 384, dtype: int64\n"
          ]
        }
      ]
    },
    {
      "cell_type": "code",
      "metadata": {
        "id": "XIu9gYQoc2to",
        "outputId": "8703f173-d8e3-48c1-d6b1-d5692475f323",
        "colab": {
          "base_uri": "https://localhost:8080/"
        }
      },
      "source": [
        "project_data['project_subject_subcategories'] = project_data['project_subject_subcategories'].str.replace(' The ','')\n",
        "project_data['project_subject_subcategories'] = project_data['project_subject_subcategories'].str.replace(' ','')\n",
        "project_data['project_subject_subcategories'] = project_data['project_subject_subcategories'].str.replace('&','_')\n",
        "project_data['project_subject_subcategories'] = project_data['project_subject_subcategories'].str.replace(',','_')\n",
        "project_data['project_subject_subcategories'] = project_data['project_subject_subcategories'].str.lower()\n",
        "project_data['project_subject_subcategories'].value_counts()"
      ],
      "execution_count": 16,
      "outputs": [
        {
          "output_type": "execute_result",
          "data": {
            "text/plain": [
              "literacy                                4434\n",
              "literacy_mathematics                    3833\n",
              "literature_writing_mathematics          2705\n",
              "literacy_literature_writing             2570\n",
              "mathematics                             2441\n",
              "                                        ... \n",
              "college_careerprep_gym_fitness             1\n",
              "charactereducation_financialliteracy       1\n",
              "gym_fitness_socialsciences                 1\n",
              "parentinvolvement_teamsports               1\n",
              "financialliteracy_parentinvolvement        1\n",
              "Name: project_subject_subcategories, Length: 384, dtype: int64"
            ]
          },
          "metadata": {},
          "execution_count": 16
        }
      ]
    },
    {
      "cell_type": "markdown",
      "metadata": {
        "id": "HqOcW0JCdBZz"
      },
      "source": [
        "#  Preprocessing Categorical Features: school_state"
      ]
    },
    {
      "cell_type": "code",
      "metadata": {
        "id": "vp7pqHj-c9VE",
        "outputId": "1ea9eb17-dbac-4d8f-ea72-955892acdcd6",
        "colab": {
          "base_uri": "https://localhost:8080/"
        }
      },
      "source": [
        "print(project_data['school_state'].value_counts())"
      ],
      "execution_count": 17,
      "outputs": [
        {
          "output_type": "stream",
          "name": "stdout",
          "text": [
            "CA    7024\n",
            "NY    3393\n",
            "TX    3320\n",
            "FL    2839\n",
            "NC    2340\n",
            "IL    1967\n",
            "SC    1830\n",
            "GA    1828\n",
            "MI    1468\n",
            "PA    1419\n",
            "OH    1180\n",
            "IN    1171\n",
            "MO    1166\n",
            "WA    1103\n",
            "LA    1094\n",
            "MA    1076\n",
            "OK    1074\n",
            "NJ    1005\n",
            "AZ     994\n",
            "VA     916\n",
            "WI     833\n",
            "UT     792\n",
            "AL     790\n",
            "TN     774\n",
            "CT     774\n",
            "MD     668\n",
            "NV     665\n",
            "KY     614\n",
            "MS     598\n",
            "OR     577\n",
            "MN     556\n",
            "CO     538\n",
            "AR     446\n",
            "IA     306\n",
            "ID     302\n",
            "KS     285\n",
            "DC     247\n",
            "HI     239\n",
            "NM     236\n",
            "ME     222\n",
            "WV     218\n",
            "DE     155\n",
            "AK     153\n",
            "NE     144\n",
            "SD     142\n",
            "NH     141\n",
            "RI     126\n",
            "MT     106\n",
            "ND      63\n",
            "WY      51\n",
            "VT      32\n",
            "Name: school_state, dtype: int64\n"
          ]
        }
      ]
    },
    {
      "cell_type": "code",
      "metadata": {
        "id": "H0AQwXzJdODa",
        "outputId": "a0a94fc6-bdb8-478f-a7f7-6d94b77ef88e",
        "colab": {
          "base_uri": "https://localhost:8080/"
        }
      },
      "source": [
        "project_data['school_state'] = project_data['school_state'].str.lower()\n",
        "project_data['school_state'].value_counts()"
      ],
      "execution_count": 18,
      "outputs": [
        {
          "output_type": "execute_result",
          "data": {
            "text/plain": [
              "ca    7024\n",
              "ny    3393\n",
              "tx    3320\n",
              "fl    2839\n",
              "nc    2340\n",
              "il    1967\n",
              "sc    1830\n",
              "ga    1828\n",
              "mi    1468\n",
              "pa    1419\n",
              "oh    1180\n",
              "in    1171\n",
              "mo    1166\n",
              "wa    1103\n",
              "la    1094\n",
              "ma    1076\n",
              "ok    1074\n",
              "nj    1005\n",
              "az     994\n",
              "va     916\n",
              "wi     833\n",
              "ut     792\n",
              "al     790\n",
              "tn     774\n",
              "ct     774\n",
              "md     668\n",
              "nv     665\n",
              "ky     614\n",
              "ms     598\n",
              "or     577\n",
              "mn     556\n",
              "co     538\n",
              "ar     446\n",
              "ia     306\n",
              "id     302\n",
              "ks     285\n",
              "dc     247\n",
              "hi     239\n",
              "nm     236\n",
              "me     222\n",
              "wv     218\n",
              "de     155\n",
              "ak     153\n",
              "ne     144\n",
              "sd     142\n",
              "nh     141\n",
              "ri     126\n",
              "mt     106\n",
              "nd      63\n",
              "wy      51\n",
              "vt      32\n",
              "Name: school_state, dtype: int64"
            ]
          },
          "metadata": {},
          "execution_count": 18
        }
      ]
    },
    {
      "cell_type": "markdown",
      "metadata": {
        "id": "olU_wE43deCc"
      },
      "source": [
        "#  Preprocessing Categorical Features: project_title"
      ]
    },
    {
      "cell_type": "code",
      "metadata": {
        "id": "NDiJAA2DdYmf"
      },
      "source": [
        "# https://stackoverflow.com/a/47091490/4084039\n",
        "import re\n",
        "\n",
        "def decontracted(phrase):\n",
        "    # specific\n",
        "    phrase = re.sub(r\"won't\", \"will not\", phrase)\n",
        "    phrase = re.sub(r\"can\\'t\", \"can not\", phrase)\n",
        "\n",
        "    # general\n",
        "    phrase = re.sub(r\"n\\'t\", \" not\", phrase)\n",
        "    phrase = re.sub(r\"\\'re\", \" are\", phrase)\n",
        "    phrase = re.sub(r\"\\'s\", \" is\", phrase)\n",
        "    phrase = re.sub(r\"\\'d\", \" would\", phrase)\n",
        "    phrase = re.sub(r\"\\'ll\", \" will\", phrase)\n",
        "    phrase = re.sub(r\"\\'t\", \" not\", phrase)\n",
        "    phrase = re.sub(r\"\\'ve\", \" have\", phrase)\n",
        "    phrase = re.sub(r\"\\'m\", \" am\", phrase)\n",
        "    return phrase"
      ],
      "execution_count": 19,
      "outputs": []
    },
    {
      "cell_type": "code",
      "metadata": {
        "id": "Uwrb9FOrezV1"
      },
      "source": [
        "# https://gist.github.com/sebleier/554280\n",
        "# we are removing the words from the stop words list: 'no', 'nor', 'not'\n",
        "stopwords= ['i', 'me', 'my', 'myself', 'we', 'our', 'ours', 'ourselves', 'you', \"you're\", \"you've\",\\\n",
        "            \"you'll\", \"you'd\", 'your', 'yours', 'yourself', 'yourselves', 'he', 'him', 'his', 'himself', \\\n",
        "            'she', \"she's\", 'her', 'hers', 'herself', 'it', \"it's\", 'its', 'itself', 'they', 'them', 'their',\\\n",
        "            'theirs', 'themselves', 'what', 'which', 'who', 'whom', 'this', 'that', \"that'll\", 'these', 'those', \\\n",
        "            'am', 'is', 'are', 'was', 'were', 'be', 'been', 'being', 'have', 'has', 'had', 'having', 'do', 'does', \\\n",
        "            'did', 'doing', 'a', 'an', 'the', 'and', 'but', 'if', 'or', 'because', 'as', 'until', 'while', 'of', \\\n",
        "            'at', 'by', 'for', 'with', 'about', 'against', 'between', 'into', 'through', 'during', 'before', 'after',\\\n",
        "            'above', 'below', 'to', 'from', 'up', 'down', 'in', 'out', 'on', 'off', 'over', 'under', 'again', 'further',\\\n",
        "            'then', 'once', 'here', 'there', 'when', 'where', 'why', 'how', 'all', 'any', 'both', 'each', 'few', 'more',\\\n",
        "            'most', 'other', 'some', 'such', 'only', 'own', 'same', 'so', 'than', 'too', 'very', \\\n",
        "            's', 't', 'can', 'will', 'just', 'don', \"don't\", 'should', \"should've\", 'now', 'd', 'll', 'm', 'o', 're', \\\n",
        "            've', 'y', 'ain', 'aren', \"aren't\", 'couldn', \"couldn't\", 'didn', \"didn't\", 'doesn', \"doesn't\", 'hadn',\\\n",
        "            \"hadn't\", 'hasn', \"hasn't\", 'haven', \"haven't\", 'isn', \"isn't\", 'ma', 'mightn', \"mightn't\", 'mustn',\\\n",
        "            \"mustn't\", 'needn', \"needn't\", 'shan', \"shan't\", 'shouldn', \"shouldn't\", 'wasn', \"wasn't\", 'weren', \"weren't\", \\\n",
        "            'won', \"won't\", 'wouldn', \"wouldn't\"]"
      ],
      "execution_count": 20,
      "outputs": []
    },
    {
      "cell_type": "code",
      "metadata": {
        "id": "Bv81I8a5fERZ",
        "outputId": "2ad829ed-11c2-40c9-8fc9-faeb27b655de",
        "colab": {
          "base_uri": "https://localhost:8080/"
        }
      },
      "source": [
        "project_data['project_title'].head(5)"
      ],
      "execution_count": 21,
      "outputs": [
        {
          "output_type": "execute_result",
          "data": {
            "text/plain": [
              "0     Educational Support for English Learners at Home\n",
              "1                Wanted: Projector for Hungry Learners\n",
              "2    Soccer Equipment for AWESOME Middle School Stu...\n",
              "3                               Techie Kindergarteners\n",
              "4                               Interactive Math Tools\n",
              "Name: project_title, dtype: object"
            ]
          },
          "metadata": {},
          "execution_count": 21
        }
      ]
    },
    {
      "cell_type": "code",
      "metadata": {
        "id": "gX4FTYFqfEhx",
        "outputId": "b4901aea-eb32-4477-cc2b-86eca23a7786",
        "colab": {
          "base_uri": "https://localhost:8080/"
        }
      },
      "source": [
        "print(\"printing some random reviews\")\n",
        "print(9, project_data['project_title'].values[9])\n",
        "print(34, project_data['project_title'].values[34])\n",
        "print(147, project_data['project_title'].values[147])"
      ],
      "execution_count": 22,
      "outputs": [
        {
          "output_type": "stream",
          "name": "stdout",
          "text": [
            "printing some random reviews\n",
            "9 Just For the Love of Reading--\\r\\nPure Pleasure\n",
            "34 \\\"Have A Ball!!!\\\"\n",
            "147 Who needs a Chromebook?\\r\\nWE DO!!\n"
          ]
        }
      ]
    },
    {
      "cell_type": "code",
      "metadata": {
        "id": "kau6E0rvfEvj"
      },
      "source": [
        "# Combining all the above stundents \n",
        "from tqdm import tqdm\n",
        "def preprocess_text(text_data):\n",
        "    preprocessed_text = []\n",
        "    # tqdm is for printing the status bar\n",
        "    for sentance in tqdm(text_data):\n",
        "        sent = decontracted(sentance)\n",
        "        sent = sent.replace('\\\\r', ' ')\n",
        "        sent = sent.replace('\\\\n', ' ')\n",
        "        sent = sent.replace('\\\\\"', ' ')\n",
        "        sent = re.sub('[^A-Za-z0-9]+', ' ', sent)\n",
        "        # https://gist.github.com/sebleier/554280\n",
        "        sent = ' '.join(e for e in sent.split() if e.lower() not in stopwords)\n",
        "        preprocessed_text.append(sent.lower().strip())\n",
        "    return preprocessed_text"
      ],
      "execution_count": 23,
      "outputs": []
    },
    {
      "cell_type": "code",
      "metadata": {
        "id": "ZLJK4RVJfFDP",
        "outputId": "0978d7a5-4b82-4b53-e446-dc3633bdfa11",
        "colab": {
          "base_uri": "https://localhost:8080/"
        }
      },
      "source": [
        "preprocessed_titles = preprocess_text(project_data['project_title'].values)"
      ],
      "execution_count": 24,
      "outputs": [
        {
          "output_type": "stream",
          "name": "stderr",
          "text": [
            "100%|██████████| 50000/50000 [00:01<00:00, 32982.95it/s]\n"
          ]
        }
      ]
    },
    {
      "cell_type": "code",
      "metadata": {
        "id": "hOMFPWQXguB2",
        "outputId": "f79dc13d-6ab8-4ef4-96fc-b71868bed0fe",
        "colab": {
          "base_uri": "https://localhost:8080/"
        }
      },
      "source": [
        "print(\"printing some random reviews\")\n",
        "print(9, preprocessed_titles[9])\n",
        "print(34, preprocessed_titles[34])\n",
        "print(147, preprocessed_titles[147])"
      ],
      "execution_count": 25,
      "outputs": [
        {
          "output_type": "stream",
          "name": "stdout",
          "text": [
            "printing some random reviews\n",
            "9 love reading pure pleasure\n",
            "34 ball\n",
            "147 needs chromebook\n"
          ]
        }
      ]
    },
    {
      "cell_type": "code",
      "metadata": {
        "id": "z9CsXKKLxRtr"
      },
      "source": [
        "project_data['preprocessed_titles'] = preprocessed_titles\n",
        "project_data.drop(['project_title'], axis=1, inplace=True)\n"
      ],
      "execution_count": 26,
      "outputs": []
    },
    {
      "cell_type": "markdown",
      "metadata": {
        "id": "PmY56qr--Yd6"
      },
      "source": [
        "#  Preprocessing Categorical Features: essay"
      ]
    },
    {
      "cell_type": "code",
      "metadata": {
        "id": "bdVnMlSOgvir"
      },
      "source": [
        "# merge two column text dataframe: \n",
        "project_data[\"essay\"] = project_data[\"project_essay_1\"].map(str) +\\\n",
        "                        project_data[\"project_essay_2\"].map(str) + \\\n",
        "                        project_data[\"project_essay_3\"].map(str) + \\\n",
        "                        project_data[\"project_essay_4\"].map(str)"
      ],
      "execution_count": 27,
      "outputs": []
    },
    {
      "cell_type": "code",
      "metadata": {
        "id": "SWPW-t15-ngg",
        "outputId": "15149959-11c4-473b-9138-7a914d1669f7",
        "colab": {
          "base_uri": "https://localhost:8080/"
        }
      },
      "source": [
        "print(\"printing some random essay\")\n",
        "print(9, project_data['essay'].values[9])\n",
        "print('-'*50)\n",
        "print(34, project_data['essay'].values[34])\n",
        "print('-'*50)\n",
        "print(147, project_data['essay'].values[147])"
      ],
      "execution_count": 28,
      "outputs": [
        {
          "output_type": "stream",
          "name": "stdout",
          "text": [
            "printing some random essay\n",
            "9 Over 95% of my students are on free or reduced lunch.  I have a few who are homeless, but despite that, they come to school with an eagerness to learn.  My students are inquisitive eager learners who  embrace the challenge of not having great books and other resources  every day.  Many of them are not afforded the opportunity to engage with these big colorful pages of a book on a regular basis at home and they don't travel to the public library.  \\r\\nIt is my duty as a teacher to do all I can to provide each student an opportunity to succeed in every aspect of life. \\r\\nReading is Fundamental! My students will read these books over and over again while boosting their comprehension skills. These books will be used for read alouds, partner reading and for Independent reading. \\r\\nThey will engage in reading to build their \\\"Love for Reading\\\" by reading for pure enjoyment. They will be introduced to some new authors as well as some old favorites. I want my students to be ready for the 21st Century and know the pleasure of holding a good hard back book in hand. There's nothing like a good book to read!  \\r\\nMy students will soar in Reading, and more because of your consideration and generous funding contribution. This will help build stamina and prepare for 3rd grade. Thank you so much for reading our proposal!nannan\n",
            "--------------------------------------------------\n",
            "34 My students mainly come from extremely low-income families, and the majority of them come from homes where both parents work full time. Most of my students are at school from 7:30 am to 6:00 pm (2:30 to 6:00 pm in the after-school program), and they all receive free and reduced meals for breakfast and lunch. \\r\\n\\r\\n\\r\\nI want my students to feel  as comfortable in my classroom as they do at home. Many of my students take on multiple roles both at home as well as in school. They are sometimes the caretakers of younger siblings, cooks, babysitters, academics, friends, and most of all, they are developing who they are going to become as adults.  I consider it an essential part of my job to model helping others gain knowledge in a positive manner. As a result, I have a community of students who love helping each other in and outside of the classroom. They consistently look for opportunities to support each other's learning in a kind and helpful way.I am excited to be experimenting with alternative seating in my classroom this school year. Studies have shown that giving students the option of where they sit in a classroom increases focus as well as motivation.  \\r\\n\\r\\nBy allowing students choice in the classroom, they are able to explore and create in a welcoming environment. Alternative classroom seating has been experimented with more frequently in recent years. I believe (along with many others), that every child learns differently. This does not only apply to how multiplication is memorized, or a paper is written, but applies to the space in which they are asked to work. I have had students in the past ask \\\"Can I work in the library? Can I work on the carpet?\\\" My answer was always, \\\"As long as you're learning, you can work wherever you want!\\\" \\r\\n\\r\\nWith the yoga balls and the lap-desks, I will be able to increase the options for seating in my classroom and expand its imaginable space.nannan\n",
            "--------------------------------------------------\n",
            "147 My students are eager to learn and make their mark on the world.\\r\\n\\r\\nThey come from a Title 1 school and need extra love.\\r\\n\\r\\nMy fourth grade students are in a high poverty area and still come to school every day to get their education. I am trying to make it fun and educational for them so they can get the most out of their schooling. I created a caring environment for the students to bloom! They deserve the best.\\r\\nThank you!\\r\\nI am requesting 1 Chromebook to access online interventions, differentiate instruction, and get extra practice. The Chromebook will be used to supplement ELA and math instruction. Students will play ELA and math games that are engaging and fun, as well as participate in assignments online. This in turn will help my students improve their skills. Having a Chromebook in the classroom would not only allow students to use the programs at their own pace, but would ensure more students are getting adequate time to use the programs. The online programs have been especially beneficial to my students with special needs. They are able to work at their level as well as be challenged with some different materials. This is making these students more confident in their abilities.\\r\\n\\r\\nThe Chromebook would allow my students to have daily access to computers and increase their computing skills.\\r\\nThis will change their lives for the better as they become more successful in school. Having access to technology in the classroom would help bridge the achievement gap.nannan\n"
          ]
        }
      ]
    },
    {
      "cell_type": "code",
      "metadata": {
        "id": "Qw2KEZR9-no2",
        "outputId": "c63279fe-31b6-48b1-f4e4-036f07e94bea",
        "colab": {
          "base_uri": "https://localhost:8080/"
        }
      },
      "source": [
        "preprocessed_essays = preprocess_text(project_data['essay'].values)"
      ],
      "execution_count": 29,
      "outputs": [
        {
          "output_type": "stream",
          "name": "stderr",
          "text": [
            "100%|██████████| 50000/50000 [00:35<00:00, 1397.01it/s]\n"
          ]
        }
      ]
    },
    {
      "cell_type": "code",
      "metadata": {
        "id": "w1YBO9pW-vpe",
        "outputId": "a983ce90-5347-473e-ec90-d489d7273bba",
        "colab": {
          "base_uri": "https://localhost:8080/"
        }
      },
      "source": [
        "print(\"printing some random essay\")\n",
        "print(9, preprocessed_essays[9])\n",
        "print('-'*50)\n",
        "print(34, preprocessed_essays[34])\n",
        "print('-'*50)\n",
        "print(147, preprocessed_essays[147])"
      ],
      "execution_count": 30,
      "outputs": [
        {
          "output_type": "stream",
          "name": "stdout",
          "text": [
            "printing some random essay\n",
            "9 95 students free reduced lunch homeless despite come school eagerness learn students inquisitive eager learners embrace challenge not great books resources every day many not afforded opportunity engage big colorful pages book regular basis home not travel public library duty teacher provide student opportunity succeed every aspect life reading fundamental students read books boosting comprehension skills books used read alouds partner reading independent reading engage reading build love reading reading pure enjoyment introduced new authors well old favorites want students ready 21st century know pleasure holding good hard back book hand nothing like good book read students soar reading consideration generous funding contribution help build stamina prepare 3rd grade thank much reading proposal nannan\n",
            "--------------------------------------------------\n",
            "34 students mainly come extremely low income families majority come homes parents work full time students school 7 30 6 00 pm 2 30 6 00 pm school program receive free reduced meals breakfast lunch want students feel comfortable classroom home many students take multiple roles home well school sometimes caretakers younger siblings cooks babysitters academics friends developing going become adults consider essential part job model helping others gain knowledge positive manner result community students love helping outside classroom consistently look opportunities support learning kind helpful way excited experimenting alternative seating classroom school year studies shown giving students option sit classroom increases focus well motivation allowing students choice classroom able explore create welcoming environment alternative classroom seating experimented frequently recent years believe along many others every child learns differently not apply multiplication memorized paper written applies space asked work students past ask work library work carpet answer always long learning work wherever want yoga balls lap desks able increase options seating classroom expand imaginable space nannan\n",
            "--------------------------------------------------\n",
            "147 students eager learn make mark world come title 1 school need extra love fourth grade students high poverty area still come school every day get education trying make fun educational get schooling created caring environment students bloom deserve best thank requesting 1 chromebook access online interventions differentiate instruction get extra practice chromebook used supplement ela math instruction students play ela math games engaging fun well participate assignments online turn help students improve skills chromebook classroom would not allow students use programs pace would ensure students getting adequate time use programs online programs especially beneficial students special needs able work level well challenged different materials making students confident abilities chromebook would allow students daily access computers increase computing skills change lives better become successful school access technology classroom would help bridge achievement gap nannan\n"
          ]
        }
      ]
    },
    {
      "cell_type": "code",
      "metadata": {
        "id": "XqkbyVGprzIj"
      },
      "source": [
        "#creating a new column with the preprocessed essays and replacing it with the original columns\n",
        "project_data['preprocessed_essays'] = preprocessed_essays\n",
        "project_data.drop(['project_essay_1'], axis=1, inplace=True)\n",
        "project_data.drop(['project_essay_2'], axis=1, inplace=True)\n",
        "project_data.drop(['project_essay_3'], axis=1, inplace=True)\n",
        "project_data.drop(['project_essay_4'], axis=1, inplace=True)"
      ],
      "execution_count": 31,
      "outputs": []
    },
    {
      "cell_type": "markdown",
      "metadata": {
        "id": "s9yKWoOeq7GM"
      },
      "source": [
        "<h2>Calculate sentiment score in essay"
      ]
    },
    {
      "cell_type": "code",
      "metadata": {
        "id": "Ejhn_N_dq14D",
        "outputId": "2134dbc0-29b1-4531-a153-f72ac8b61728",
        "colab": {
          "base_uri": "https://localhost:8080/"
        }
      },
      "source": [
        "import nltk\n",
        "nltk.download('vader_lexicon')\n",
        "from nltk.sentiment.vader import SentimentIntensityAnalyzer\n",
        "analyser = SentimentIntensityAnalyzer()\n",
        "\n",
        "neg_score = []\n",
        "pos_score = []\n",
        "neu_score = []\n",
        "compound_score = []\n",
        "\n",
        "for essay in tqdm(project_data[\"preprocessed_essays\"]) :\n",
        "  neg_score.append(analyser.polarity_scores(essay)['neg'])\n",
        "  pos_score.append(analyser.polarity_scores(essay)['pos'])\n",
        "  neu_score.append(analyser.polarity_scores(essay)['neu'])\n",
        "  compound_score.append(analyser.polarity_scores(essay)['compound'])"
      ],
      "execution_count": 32,
      "outputs": [
        {
          "output_type": "stream",
          "name": "stdout",
          "text": [
            "[nltk_data] Downloading package vader_lexicon to /root/nltk_data...\n"
          ]
        },
        {
          "output_type": "stream",
          "name": "stderr",
          "text": [
            "100%|██████████| 50000/50000 [05:59<00:00, 139.03it/s]\n"
          ]
        }
      ]
    },
    {
      "cell_type": "code",
      "metadata": {
        "id": "EOkdB5xztE0J"
      },
      "source": [
        "project_data['neg_score'] = neg_score\n",
        "project_data['pos_score'] = pos_score\n",
        "project_data['neu_score'] = neu_score\n",
        "project_data['compound_score'] = compound_score"
      ],
      "execution_count": 33,
      "outputs": []
    },
    {
      "cell_type": "code",
      "metadata": {
        "id": "bkg5DSZ_YgKI",
        "outputId": "a094d82a-da4f-473e-9644-1ce670d3929b",
        "colab": {
          "base_uri": "https://localhost:8080/",
          "height": 112
        }
      },
      "source": [
        "price_data = resource_data.groupby('id').agg({'price':'sum', 'quantity':'sum'}).reset_index()\n",
        "price_data.head(2)"
      ],
      "execution_count": 34,
      "outputs": [
        {
          "output_type": "execute_result",
          "data": {
            "text/plain": [
              "        id   price  quantity\n",
              "0  p000001  459.56         7\n",
              "1  p000002  515.89        21"
            ],
            "text/html": [
              "\n",
              "  <div id=\"df-6083040b-4574-4f00-8156-7389fb17c5fd\">\n",
              "    <div class=\"colab-df-container\">\n",
              "      <div>\n",
              "<style scoped>\n",
              "    .dataframe tbody tr th:only-of-type {\n",
              "        vertical-align: middle;\n",
              "    }\n",
              "\n",
              "    .dataframe tbody tr th {\n",
              "        vertical-align: top;\n",
              "    }\n",
              "\n",
              "    .dataframe thead th {\n",
              "        text-align: right;\n",
              "    }\n",
              "</style>\n",
              "<table border=\"1\" class=\"dataframe\">\n",
              "  <thead>\n",
              "    <tr style=\"text-align: right;\">\n",
              "      <th></th>\n",
              "      <th>id</th>\n",
              "      <th>price</th>\n",
              "      <th>quantity</th>\n",
              "    </tr>\n",
              "  </thead>\n",
              "  <tbody>\n",
              "    <tr>\n",
              "      <th>0</th>\n",
              "      <td>p000001</td>\n",
              "      <td>459.56</td>\n",
              "      <td>7</td>\n",
              "    </tr>\n",
              "    <tr>\n",
              "      <th>1</th>\n",
              "      <td>p000002</td>\n",
              "      <td>515.89</td>\n",
              "      <td>21</td>\n",
              "    </tr>\n",
              "  </tbody>\n",
              "</table>\n",
              "</div>\n",
              "      <button class=\"colab-df-convert\" onclick=\"convertToInteractive('df-6083040b-4574-4f00-8156-7389fb17c5fd')\"\n",
              "              title=\"Convert this dataframe to an interactive table.\"\n",
              "              style=\"display:none;\">\n",
              "        \n",
              "  <svg xmlns=\"http://www.w3.org/2000/svg\" height=\"24px\"viewBox=\"0 0 24 24\"\n",
              "       width=\"24px\">\n",
              "    <path d=\"M0 0h24v24H0V0z\" fill=\"none\"/>\n",
              "    <path d=\"M18.56 5.44l.94 2.06.94-2.06 2.06-.94-2.06-.94-.94-2.06-.94 2.06-2.06.94zm-11 1L8.5 8.5l.94-2.06 2.06-.94-2.06-.94L8.5 2.5l-.94 2.06-2.06.94zm10 10l.94 2.06.94-2.06 2.06-.94-2.06-.94-.94-2.06-.94 2.06-2.06.94z\"/><path d=\"M17.41 7.96l-1.37-1.37c-.4-.4-.92-.59-1.43-.59-.52 0-1.04.2-1.43.59L10.3 9.45l-7.72 7.72c-.78.78-.78 2.05 0 2.83L4 21.41c.39.39.9.59 1.41.59.51 0 1.02-.2 1.41-.59l7.78-7.78 2.81-2.81c.8-.78.8-2.07 0-2.86zM5.41 20L4 18.59l7.72-7.72 1.47 1.35L5.41 20z\"/>\n",
              "  </svg>\n",
              "      </button>\n",
              "      \n",
              "  <style>\n",
              "    .colab-df-container {\n",
              "      display:flex;\n",
              "      flex-wrap:wrap;\n",
              "      gap: 12px;\n",
              "    }\n",
              "\n",
              "    .colab-df-convert {\n",
              "      background-color: #E8F0FE;\n",
              "      border: none;\n",
              "      border-radius: 50%;\n",
              "      cursor: pointer;\n",
              "      display: none;\n",
              "      fill: #1967D2;\n",
              "      height: 32px;\n",
              "      padding: 0 0 0 0;\n",
              "      width: 32px;\n",
              "    }\n",
              "\n",
              "    .colab-df-convert:hover {\n",
              "      background-color: #E2EBFA;\n",
              "      box-shadow: 0px 1px 2px rgba(60, 64, 67, 0.3), 0px 1px 3px 1px rgba(60, 64, 67, 0.15);\n",
              "      fill: #174EA6;\n",
              "    }\n",
              "\n",
              "    [theme=dark] .colab-df-convert {\n",
              "      background-color: #3B4455;\n",
              "      fill: #D2E3FC;\n",
              "    }\n",
              "\n",
              "    [theme=dark] .colab-df-convert:hover {\n",
              "      background-color: #434B5C;\n",
              "      box-shadow: 0px 1px 3px 1px rgba(0, 0, 0, 0.15);\n",
              "      filter: drop-shadow(0px 1px 2px rgba(0, 0, 0, 0.3));\n",
              "      fill: #FFFFFF;\n",
              "    }\n",
              "  </style>\n",
              "\n",
              "      <script>\n",
              "        const buttonEl =\n",
              "          document.querySelector('#df-6083040b-4574-4f00-8156-7389fb17c5fd button.colab-df-convert');\n",
              "        buttonEl.style.display =\n",
              "          google.colab.kernel.accessAllowed ? 'block' : 'none';\n",
              "\n",
              "        async function convertToInteractive(key) {\n",
              "          const element = document.querySelector('#df-6083040b-4574-4f00-8156-7389fb17c5fd');\n",
              "          const dataTable =\n",
              "            await google.colab.kernel.invokeFunction('convertToInteractive',\n",
              "                                                     [key], {});\n",
              "          if (!dataTable) return;\n",
              "\n",
              "          const docLinkHtml = 'Like what you see? Visit the ' +\n",
              "            '<a target=\"_blank\" href=https://colab.research.google.com/notebooks/data_table.ipynb>data table notebook</a>'\n",
              "            + ' to learn more about interactive tables.';\n",
              "          element.innerHTML = '';\n",
              "          dataTable['output_type'] = 'display_data';\n",
              "          await google.colab.output.renderOutput(dataTable, element);\n",
              "          const docLink = document.createElement('div');\n",
              "          docLink.innerHTML = docLinkHtml;\n",
              "          element.appendChild(docLink);\n",
              "        }\n",
              "      </script>\n",
              "    </div>\n",
              "  </div>\n",
              "  "
            ]
          },
          "metadata": {},
          "execution_count": 34
        }
      ]
    },
    {
      "cell_type": "code",
      "metadata": {
        "id": "ZQ14djSeYgR-"
      },
      "source": [
        "project_data = pd.merge(project_data, price_data, on='id', how='left')"
      ],
      "execution_count": 35,
      "outputs": []
    },
    {
      "cell_type": "code",
      "metadata": {
        "id": "j5Nu8cANg4I9"
      },
      "source": [
        "# Drop Table project_is_approved\n",
        "y = project_data['project_is_approved'].values\n",
        "X = project_data.drop(['Unnamed: 0','teacher_id','project_submitted_datetime','id','essay','project_resource_summary','quantity'],axis=1)"
      ],
      "execution_count": 36,
      "outputs": []
    },
    {
      "cell_type": "markdown",
      "metadata": {
        "id": "sL_9M_h64ofU"
      },
      "source": [
        "# Step 1 - Split the data into train and test using stratified sampling"
      ]
    },
    {
      "cell_type": "code",
      "metadata": {
        "id": "p5z8b833ofHc",
        "outputId": "af332258-d6c9-4089-8456-22c43ac0cc6f",
        "colab": {
          "base_uri": "https://localhost:8080/"
        }
      },
      "source": [
        "# Split data into Train and Test\n",
        "\n",
        "from sklearn.model_selection import train_test_split\n",
        "\n",
        "X_train, X_test, y_train, y_test = train_test_split(X,y,stratify=y,test_size=0.33)\n",
        "\n",
        "print(\"train dataset = \", len(X_train)/len(project_data) * 100,\"%\")\n",
        "print(X_train.shape[0])\n",
        "print(\"test dataset = \", len(X_test)/len(project_data) * 100,\"%\")\n",
        "print(X_test.shape[0])"
      ],
      "execution_count": 37,
      "outputs": [
        {
          "output_type": "stream",
          "name": "stdout",
          "text": [
            "train dataset =  67.0 %\n",
            "33500\n",
            "test dataset =  33.0 %\n",
            "16500\n"
          ]
        }
      ]
    },
    {
      "cell_type": "markdown",
      "metadata": {
        "id": "6_6j_J0W4zGl"
      },
      "source": [
        "# Step 2 - Vectorizing Categorical Data ( Response Encoding )"
      ]
    },
    {
      "cell_type": "code",
      "metadata": {
        "id": "Xl9g5sqz4xUa"
      },
      "source": [
        "import pdb\n",
        "def get_dict_for_feature_values(alpha,feature,df):\n",
        "  #pdb.set_trace()\n",
        "  value_counts = X_train[feature].value_counts()\n",
        "  encoding_dict = {}\n",
        "\n",
        "  for feature_val,count in value_counts.items():\n",
        "    vec = []\n",
        "    for k in range(2):\n",
        "      #find all the data points where df[feature] = feature_val & df['project_is_approved'] == k\n",
        "      data_cnt = df.loc[(df[feature] == feature_val) & (df['project_is_approved'] == k)]\n",
        "      vec.append((data_cnt.shape[0] + alpha*10)/ (count + 20*alpha))\n",
        "\n",
        "    encoding_dict[feature_val] = vec\n",
        "\n",
        "  return encoding_dict  "
      ],
      "execution_count": 38,
      "outputs": []
    },
    {
      "cell_type": "code",
      "metadata": {
        "id": "rIjVAIkw_CnF"
      },
      "source": [
        "def get_response_encoded_values(alpha,feature,df):\n",
        "  output_fea = []\n",
        "  encoding_dict = get_dict_for_feature_values(alpha,feature,df)\n",
        "  value_count = X_train[feature].value_counts()\n",
        "  #pdb.set_trace()\n",
        "  for index,row in df.iterrows():\n",
        "    if row[feature] in dict(value_count).keys():\n",
        "      output_fea.append(encoding_dict[row[feature]])\n",
        "    else:\n",
        "      output_fea.append([1/2,1/2])  \n",
        "  return output_fea    "
      ],
      "execution_count": 39,
      "outputs": []
    },
    {
      "cell_type": "code",
      "metadata": {
        "id": "hVpBAgrtA6M4",
        "outputId": "3c882ec5-3748-4970-fec2-1f5edee6974f",
        "colab": {
          "base_uri": "https://localhost:8080/"
        }
      },
      "source": [
        "# Vectorizing Categorical Data\n",
        "\n",
        "# 1. School_state\n",
        "\n",
        "alpha = 1\n",
        "train_school_state_one_hot = np.array(get_response_encoded_values(alpha, \"school_state\", X_train))\n",
        "test_school_state_one_hot = np.array(get_response_encoded_values(alpha, \"school_state\", X_test))\n",
        "\n",
        "print(train_school_state_one_hot.shape)\n",
        "print(test_school_state_one_hot.shape)"
      ],
      "execution_count": 40,
      "outputs": [
        {
          "output_type": "stream",
          "name": "stdout",
          "text": [
            "(33500, 2)\n",
            "(16500, 2)\n"
          ]
        }
      ]
    },
    {
      "cell_type": "code",
      "metadata": {
        "id": "NXA8ZHfFqPqC",
        "outputId": "a303c646-59ab-4a8a-d60c-cec992ca1b69",
        "colab": {
          "base_uri": "https://localhost:8080/"
        }
      },
      "source": [
        "# 2.Project Subject categories\n",
        "\n",
        "alpha = 1\n",
        "train_project_subject_categories_one_hot = np.array(get_response_encoded_values(alpha, \"project_subject_categories\", X_train))\n",
        "test_project_subject_categories_one_hot =np.array(get_response_encoded_values(alpha, \"project_subject_categories\", X_test))\n",
        "\n",
        "print(train_project_subject_categories_one_hot.shape)\n",
        "print(test_project_subject_categories_one_hot.shape)"
      ],
      "execution_count": 41,
      "outputs": [
        {
          "output_type": "stream",
          "name": "stdout",
          "text": [
            "(33500, 2)\n",
            "(16500, 2)\n"
          ]
        }
      ]
    },
    {
      "cell_type": "code",
      "metadata": {
        "id": "Z4GKvyk3tQsq",
        "outputId": "1fb71ef4-f770-4e61-b1d3-6c4425a7c15c",
        "colab": {
          "base_uri": "https://localhost:8080/"
        }
      },
      "source": [
        "# 3.Project Subject sub-categories\n",
        "\n",
        "alpha = 1\n",
        "train_project_subject_subcategories_one_hot = np.array(get_response_encoded_values(alpha, \"project_subject_subcategories\", X_train))\n",
        "test_project_subject_subcategories_one_hot = np.array(get_response_encoded_values(alpha, \"project_subject_subcategories\", X_test))\n",
        "\n",
        "print(train_project_subject_subcategories_one_hot.shape)\n",
        "print(test_project_subject_subcategories_one_hot.shape)"
      ],
      "execution_count": 42,
      "outputs": [
        {
          "output_type": "stream",
          "name": "stdout",
          "text": [
            "(33500, 2)\n",
            "(16500, 2)\n"
          ]
        }
      ]
    },
    {
      "cell_type": "code",
      "metadata": {
        "id": "ZduhjSSpuj8x",
        "outputId": "2677b359-c176-4378-b077-ad607c6e519f",
        "colab": {
          "base_uri": "https://localhost:8080/"
        }
      },
      "source": [
        "# 4.Project Grade\n",
        "\n",
        "alpha = 1\n",
        "train_project_grade_category_one_hot = np.array(get_response_encoded_values(alpha, \"project_grade_category\", X_train))\n",
        "test_project_grade_category_one_hot =  np.array(get_response_encoded_values(alpha, \"project_grade_category\", X_test))\n",
        "\n",
        "print(train_project_grade_category_one_hot.shape)\n",
        "print(test_project_grade_category_one_hot.shape)"
      ],
      "execution_count": 43,
      "outputs": [
        {
          "output_type": "stream",
          "name": "stdout",
          "text": [
            "(33500, 2)\n",
            "(16500, 2)\n"
          ]
        }
      ]
    },
    {
      "cell_type": "code",
      "metadata": {
        "id": "hfUT0dr1vAzy",
        "outputId": "bef06ad2-eafa-4692-c4b2-23821f098792",
        "colab": {
          "base_uri": "https://localhost:8080/"
        }
      },
      "source": [
        "# 5.Teacher Prefix\n",
        "\n",
        "alpha = 1\n",
        "train_teacher_prefix_one_hot = np.array(get_response_encoded_values(alpha, \"teacher_prefix\", X_train))\n",
        "test_teacher_prefix_one_hot =  np.array(get_response_encoded_values(alpha, \"teacher_prefix\", X_test))\n",
        "\n",
        "print(train_teacher_prefix_one_hot.shape)\n",
        "print(test_teacher_prefix_one_hot.shape)"
      ],
      "execution_count": 44,
      "outputs": [
        {
          "output_type": "stream",
          "name": "stdout",
          "text": [
            "(33500, 2)\n",
            "(16500, 2)\n"
          ]
        }
      ]
    },
    {
      "cell_type": "code",
      "metadata": {
        "id": "-heOAB4UGBta"
      },
      "source": [
        "X_train = X_train.drop(['project_is_approved'],axis=1)\n",
        "X_test = X_test.drop(['project_is_approved'],axis=1)"
      ],
      "execution_count": 45,
      "outputs": []
    },
    {
      "cell_type": "markdown",
      "metadata": {
        "id": "Gcc9r-NB5gOh"
      },
      "source": [
        "# Step 4 - Vectorizing Textual Data Using TFIDF\n"
      ]
    },
    {
      "cell_type": "code",
      "metadata": {
        "id": "SlKgP0HQzXOR",
        "outputId": "e31113f8-3fa7-447e-dc61-771cfd23baf8",
        "colab": {
          "base_uri": "https://localhost:8080/"
        }
      },
      "source": [
        "# 1. Project Title - TFIDF\n",
        "\n",
        "vectorizer_title_tfidf = TfidfVectorizer(min_df=10,ngram_range=(1,4),max_features=5000)\n",
        "\n",
        "vectorizer_title_tfidf.fit(X_train['preprocessed_titles'].values)\n",
        "\n",
        "train_project_title_tfidf = vectorizer_title_tfidf.transform(X_train['preprocessed_titles'].values)\n",
        "test_project_title_tfidf = vectorizer_title_tfidf.transform(X_test['preprocessed_titles'].values)\n",
        "\n",
        "print(train_project_title_tfidf.shape)\n",
        "print(test_project_title_tfidf.shape)"
      ],
      "execution_count": 46,
      "outputs": [
        {
          "output_type": "stream",
          "name": "stdout",
          "text": [
            "(33500, 2448)\n",
            "(16500, 2448)\n"
          ]
        }
      ]
    },
    {
      "cell_type": "code",
      "metadata": {
        "id": "ZtAQMCQYz07B",
        "outputId": "fbd783c9-61fe-44e0-ec65-a41b189d55d5",
        "colab": {
          "base_uri": "https://localhost:8080/"
        }
      },
      "source": [
        "# 2. Essay - TFIDF\n",
        "\n",
        "vectorizer_essay_tfidf = TfidfVectorizer(min_df=10,ngram_range=(1,4),max_features=5000)\n",
        "\n",
        "vectorizer_essay_tfidf.fit(X_train['preprocessed_essays'].values)\n",
        "\n",
        "train_preprocessed_essays_tfidf = vectorizer_essay_tfidf.transform(X_train['preprocessed_essays'].values)\n",
        "test_preprocessed_essays_tfidf = vectorizer_essay_tfidf.transform(X_test['preprocessed_essays'].values)\n",
        "\n",
        "print(train_preprocessed_essays_tfidf.shape)\n",
        "print(test_preprocessed_essays_tfidf.shape)"
      ],
      "execution_count": 47,
      "outputs": [
        {
          "output_type": "stream",
          "name": "stdout",
          "text": [
            "(33500, 5000)\n",
            "(16500, 5000)\n"
          ]
        }
      ]
    },
    {
      "cell_type": "markdown",
      "metadata": {
        "id": "X6LA1qiW5uR9"
      },
      "source": [
        "# TFIDF weighted W2V"
      ]
    },
    {
      "cell_type": "code",
      "metadata": {
        "id": "iAV8C7v5WKH8"
      },
      "source": [
        "# stronging variables into pickle files python: http://www.jessicayung.com/how-to-use-pickle-to-save-and-load-variables-in-python/\n",
        "# make sure you have the glove_vectors file\n",
        "with open('/content/drive/MyDrive/Copy of glove_vectors', 'rb') as f:\n",
        "  model = pickle.load(f)\n",
        "  glove_words = set(model.keys())"
      ],
      "execution_count": 48,
      "outputs": []
    },
    {
      "cell_type": "code",
      "metadata": {
        "id": "bupxL69wSCtF",
        "outputId": "69d43463-6c05-4573-b2a6-1e919a20964d",
        "colab": {
          "base_uri": "https://localhost:8080/"
        }
      },
      "source": [
        "# Preprocessed Essay\n",
        "\n",
        "tfidf_vectorizer = TfidfVectorizer()\n",
        "\n",
        "tfidf_vectorizer.fit(X_train['preprocessed_essays'].values)"
      ],
      "execution_count": 49,
      "outputs": [
        {
          "output_type": "execute_result",
          "data": {
            "text/plain": [
              "TfidfVectorizer()"
            ]
          },
          "metadata": {},
          "execution_count": 49
        }
      ]
    },
    {
      "cell_type": "code",
      "metadata": {
        "id": "ufM3TQItTX_m"
      },
      "source": [
        "idf_dict = dict(zip(tfidf_vectorizer.get_feature_names(),list(tfidf_vectorizer.idf_)))\n",
        "tfidf_words = set(tfidf_vectorizer.get_feature_names())"
      ],
      "execution_count": 50,
      "outputs": []
    },
    {
      "cell_type": "code",
      "metadata": {
        "id": "yfpWTG2-SvpN",
        "outputId": "3bc8379d-35b4-4635-c7a1-dd25fdb6a752",
        "colab": {
          "base_uri": "https://localhost:8080/"
        }
      },
      "source": [
        "train_weighted_w2v_preprocessed_essays = []\n",
        "\n",
        "for sentence in tqdm(X_train['preprocessed_essays'].values):\n",
        "  vector = np.zeros(300)\n",
        "  tf_idf_weight = 0\n",
        "  for word in sentence.split():\n",
        "    if word in glove_words and word in tfidf_words:\n",
        "      vector_val = model[word]\n",
        "      tf_idf = idf_dict[word] * (sentence.count(word)/len(sentence.split()))\n",
        "      vector += (vector_val * tf_idf)\n",
        "      tf_idf_weight += tf_idf\n",
        "  if tf_idf_weight != 0:\n",
        "    vector /= tf_idf_weight\n",
        "  train_weighted_w2v_preprocessed_essays.append(vector)    \n",
        "\n",
        "print(len(train_weighted_w2v_preprocessed_essays))\n",
        "print(len(train_weighted_w2v_preprocessed_essays[0]))    "
      ],
      "execution_count": 51,
      "outputs": [
        {
          "output_type": "stream",
          "name": "stderr",
          "text": [
            "100%|██████████| 33500/33500 [01:22<00:00, 407.48it/s]"
          ]
        },
        {
          "output_type": "stream",
          "name": "stdout",
          "text": [
            "33500\n",
            "300\n"
          ]
        },
        {
          "output_type": "stream",
          "name": "stderr",
          "text": [
            "\n"
          ]
        }
      ]
    },
    {
      "cell_type": "code",
      "metadata": {
        "id": "uaS7ErKnTTrF",
        "outputId": "f249859b-587d-4bbc-c25e-b0d1e8997972",
        "colab": {
          "base_uri": "https://localhost:8080/"
        }
      },
      "source": [
        "test_weighted_w2v_preprocessed_essays = []\n",
        "\n",
        "for sentence in tqdm(X_test['preprocessed_essays'].values):\n",
        "  vector = np.zeros(300)\n",
        "  tf_idf_weight = 0\n",
        "  for word in sentence.split():\n",
        "    if word in glove_words and word in tfidf_words:\n",
        "      vector_val = model[word]\n",
        "      tf_idf = idf_dict[word] * (sentence.count(word)/len(sentence.split()))\n",
        "      vector += (vector_val * tf_idf)\n",
        "      tf_idf_weight += tf_idf\n",
        "  if tf_idf_weight != 0:\n",
        "    vector /= tf_idf_weight\n",
        "  test_weighted_w2v_preprocessed_essays.append(vector)    \n",
        "\n",
        "print(len(test_weighted_w2v_preprocessed_essays))\n",
        "print(len(test_weighted_w2v_preprocessed_essays[0]))    "
      ],
      "execution_count": 52,
      "outputs": [
        {
          "output_type": "stream",
          "name": "stderr",
          "text": [
            "100%|██████████| 16500/16500 [00:33<00:00, 498.42it/s]"
          ]
        },
        {
          "output_type": "stream",
          "name": "stdout",
          "text": [
            "16500\n",
            "300\n"
          ]
        },
        {
          "output_type": "stream",
          "name": "stderr",
          "text": [
            "\n"
          ]
        }
      ]
    },
    {
      "cell_type": "code",
      "metadata": {
        "id": "oeXIkjplXF-K"
      },
      "source": [
        "# Preprocessed Titles\n",
        "\n",
        "tfidf_vectorizer = TfidfVectorizer()\n",
        "\n",
        "tfidf_vectorizer.fit(X_train['preprocessed_titles'].values)\n",
        "idf_dict = dict(zip(tfidf_vectorizer.get_feature_names(),list(tfidf_vectorizer.idf_)))\n",
        "tfidf_words = set(tfidf_vectorizer.get_feature_names())"
      ],
      "execution_count": 53,
      "outputs": []
    },
    {
      "cell_type": "code",
      "metadata": {
        "id": "E7GXT6BRXmL1",
        "outputId": "5838a091-06b5-48d2-83c2-b1c0ca16d7e9",
        "colab": {
          "base_uri": "https://localhost:8080/"
        }
      },
      "source": [
        "train_weighted_w2v_preprocessed_titles = []\n",
        "\n",
        "for sentence in tqdm(X_train['preprocessed_titles'].values):\n",
        "  vector = np.zeros(300)\n",
        "  tf_idf_weight = 0\n",
        "  for word in sentence.split():\n",
        "    if word in glove_words and word in tfidf_words:\n",
        "      vector_val = model[word]\n",
        "      tf_idf = idf_dict[word] * (sentence.count(word)/len(sentence.split()))\n",
        "      vector += (vector_val * tf_idf)\n",
        "      tf_idf_weight += tf_idf\n",
        "  if tf_idf_weight != 0:\n",
        "    vector /= tf_idf_weight\n",
        "  train_weighted_w2v_preprocessed_titles.append(vector)    \n",
        "\n",
        "print(len(train_weighted_w2v_preprocessed_titles))\n",
        "print(len(train_weighted_w2v_preprocessed_titles[0]))    "
      ],
      "execution_count": 54,
      "outputs": [
        {
          "output_type": "stream",
          "name": "stderr",
          "text": [
            "100%|██████████| 33500/33500 [00:01<00:00, 25529.11it/s]"
          ]
        },
        {
          "output_type": "stream",
          "name": "stdout",
          "text": [
            "33500\n",
            "300\n"
          ]
        },
        {
          "output_type": "stream",
          "name": "stderr",
          "text": [
            "\n"
          ]
        }
      ]
    },
    {
      "cell_type": "code",
      "metadata": {
        "id": "sbnwRtwZX8sd",
        "outputId": "15d88a69-3bce-408e-b6d8-431fcf31d305",
        "colab": {
          "base_uri": "https://localhost:8080/"
        }
      },
      "source": [
        "test_weighted_w2v_preprocessed_titles = []\n",
        "\n",
        "for sentence in tqdm(X_test['preprocessed_titles'].values):\n",
        "  vector = np.zeros(300)\n",
        "  tf_idf_weight = 0\n",
        "  for word in sentence.split():\n",
        "    if word in glove_words and word in tfidf_words:\n",
        "      vector_val = model[word]\n",
        "      tf_idf = idf_dict[word] * (sentence.count(word)/len(sentence.split()))\n",
        "      vector += (vector_val * tf_idf)\n",
        "      tf_idf_weight += tf_idf\n",
        "  if tf_idf_weight != 0:\n",
        "    vector /= tf_idf_weight\n",
        "  test_weighted_w2v_preprocessed_titles.append(vector)    \n",
        "\n",
        "print(len(test_weighted_w2v_preprocessed_titles))\n",
        "print(len(test_weighted_w2v_preprocessed_titles[0]))    "
      ],
      "execution_count": 55,
      "outputs": [
        {
          "output_type": "stream",
          "name": "stderr",
          "text": [
            "100%|██████████| 16500/16500 [00:00<00:00, 31764.78it/s]"
          ]
        },
        {
          "output_type": "stream",
          "name": "stdout",
          "text": [
            "16500\n",
            "300\n"
          ]
        },
        {
          "output_type": "stream",
          "name": "stderr",
          "text": [
            "\n"
          ]
        }
      ]
    },
    {
      "cell_type": "markdown",
      "metadata": {
        "id": "YBZjKwIH5zFX"
      },
      "source": [
        "# Step 5 - Encoding Numerical Features"
      ]
    },
    {
      "cell_type": "code",
      "metadata": {
        "id": "jorXEowpYEY0",
        "outputId": "caf7af20-5c78-4cec-80a1-5e04f84f7f2b",
        "colab": {
          "base_uri": "https://localhost:8080/"
        }
      },
      "source": [
        "# Encoding Numerical Features\n",
        "\n",
        "print(X_train.columns.values)"
      ],
      "execution_count": 56,
      "outputs": [
        {
          "output_type": "stream",
          "name": "stdout",
          "text": [
            "['teacher_prefix' 'school_state' 'project_grade_category'\n",
            " 'project_subject_categories' 'project_subject_subcategories'\n",
            " 'teacher_number_of_previously_posted_projects' 'preprocessed_titles'\n",
            " 'preprocessed_essays' 'neg_score' 'pos_score' 'neu_score'\n",
            " 'compound_score' 'price']\n"
          ]
        }
      ]
    },
    {
      "cell_type": "code",
      "metadata": {
        "id": "yP79IkmxaE9X",
        "outputId": "f2ef5695-7590-457a-e2af-173db6b08c99",
        "colab": {
          "base_uri": "https://localhost:8080/"
        }
      },
      "source": [
        "# Price Feature\n",
        "\n",
        "from sklearn.preprocessing import Normalizer\n",
        "\n",
        "normalizer = Normalizer()\n",
        "normalizer.fit(X_train['price'].values.reshape(1,-1)) \n",
        "price_normalized_train = normalizer.transform(X_train['price'].values.reshape(1, -1))\n",
        "normalizer.fit(X_test['price'].values.reshape(1,-1)) \n",
        "price_normalized_test = normalizer.transform(X_test['price'].values.reshape(1, -1))\n",
        "#reshaping again after normalization\n",
        "#array.reshape(-1, 1) if your data has a single feature \n",
        "\n",
        "price_normalized_train = price_normalized_train.reshape(-1, 1)\n",
        "price_normalized_test =  price_normalized_test.reshape(-1, 1)\n",
        "\n",
        "print('After normalization')\n",
        "print(price_normalized_train.shape)\n",
        "\n",
        "print(price_normalized_test.shape)"
      ],
      "execution_count": 66,
      "outputs": [
        {
          "output_type": "stream",
          "name": "stdout",
          "text": [
            "After normalization\n",
            "(33500, 1)\n",
            "(16500, 1)\n"
          ]
        }
      ]
    },
    {
      "cell_type": "code",
      "metadata": {
        "id": "34k2ctyXcwm0",
        "colab": {
          "base_uri": "https://localhost:8080/"
        },
        "outputId": "2b42589e-fa32-48cb-f9a6-42e0da347bec"
      },
      "source": [
        "# Previous number of projects\n",
        "\n",
        "from sklearn.preprocessing import Normalizer\n",
        "\n",
        "normalizer = Normalizer()\n",
        "normalizer.fit(X_train['teacher_number_of_previously_posted_projects'].values.reshape(1,-1)) \n",
        "teacher_number_of_previously_posted_projects_normalized_train = normalizer.transform(X_train['teacher_number_of_previously_posted_projects'].values.reshape(1, -1))\n",
        "normalizer.fit(X_test['teacher_number_of_previously_posted_projects'].values.reshape(1,-1)) \n",
        "teacher_number_of_previously_posted_projects_normalized_test = normalizer.transform(X_test['teacher_number_of_previously_posted_projects'].values.reshape(1, -1))\n",
        "#reshaping again after normalization\n",
        "\n",
        "teacher_number_of_previously_posted_projects_normalized_train = teacher_number_of_previously_posted_projects_normalized_train.reshape(-1, 1)\n",
        "teacher_number_of_previously_posted_projects_normalized_test =  teacher_number_of_previously_posted_projects_normalized_test.reshape(-1, 1)\n",
        "\n",
        "print('After normalization')\n",
        "print(teacher_number_of_previously_posted_projects_normalized_train.shape)\n",
        "\n",
        "print(teacher_number_of_previously_posted_projects_normalized_test.shape)"
      ],
      "execution_count": 67,
      "outputs": [
        {
          "output_type": "stream",
          "name": "stdout",
          "text": [
            "After normalization\n",
            "(33500, 1)\n",
            "(16500, 1)\n"
          ]
        }
      ]
    },
    {
      "cell_type": "code",
      "metadata": {
        "id": "yPgUoLsptXag",
        "colab": {
          "base_uri": "https://localhost:8080/"
        },
        "outputId": "40ad4cbd-b780-4e32-f47a-699d3cb7f9ad"
      },
      "source": [
        "# sentiment negative score Feature\n",
        "\n",
        "from sklearn.preprocessing import Normalizer\n",
        "\n",
        "normalizer = Normalizer()\n",
        "normalizer.fit(X_train['neg_score'].values.reshape(1,-1)) \n",
        "neg_score_normalized_train = normalizer.transform(X_train['neg_score'].values.reshape(1, -1))\n",
        "normalizer.fit(X_test['neg_score'].values.reshape(1,-1)) \n",
        "neg_score_normalized_test = normalizer.transform(X_test['neg_score'].values.reshape(1, -1))\n",
        "#reshaping again after normalization\n",
        "#array.reshape(-1, 1) if your data has a single feature \n",
        "\n",
        "neg_score_normalized_train = price_normalized_train.reshape(-1, 1)\n",
        "neg_score_normalized_test =  price_normalized_test.reshape(-1, 1)\n",
        "\n",
        "print('After normalization')\n",
        "print(neg_score_normalized_train.shape)\n",
        "\n",
        "print(neg_score_normalized_test.shape)"
      ],
      "execution_count": 69,
      "outputs": [
        {
          "output_type": "stream",
          "name": "stdout",
          "text": [
            "After normalization\n",
            "(33500, 1)\n",
            "(16500, 1)\n"
          ]
        }
      ]
    },
    {
      "cell_type": "code",
      "metadata": {
        "id": "jevPTMgj7Ee_",
        "colab": {
          "base_uri": "https://localhost:8080/"
        },
        "outputId": "6c89b929-10a5-4989-8be0-af0cd6375a40"
      },
      "source": [
        "# sentiment positive score Feature\n",
        "\n",
        "from sklearn.preprocessing import Normalizer\n",
        "\n",
        "normalizer = Normalizer()\n",
        "normalizer.fit(X_train['pos_score'].values.reshape(1,-1)) \n",
        "pos_score_normalized_train = normalizer.transform(X_train['pos_score'].values.reshape(1, -1))\n",
        "normalizer.fit(X_test['pos_score'].values.reshape(1,-1)) \n",
        "pos_score_normalized_test = normalizer.transform(X_test['pos_score'].values.reshape(1, -1))\n",
        "#reshaping again after normalization\n",
        "#array.reshape(-1, 1) if your data has a single feature \n",
        "\n",
        "pos_score_normalized_train = pos_score_normalized_train.reshape(-1, 1)\n",
        "pos_score_normalized_test =  pos_score_normalized_test.reshape(-1, 1)\n",
        "\n",
        "print('After normalization')\n",
        "print(pos_score_normalized_train.shape)\n",
        "\n",
        "print(pos_score_normalized_test.shape)"
      ],
      "execution_count": 70,
      "outputs": [
        {
          "output_type": "stream",
          "name": "stdout",
          "text": [
            "After normalization\n",
            "(33500, 1)\n",
            "(16500, 1)\n"
          ]
        }
      ]
    },
    {
      "cell_type": "code",
      "metadata": {
        "id": "qSvy1Oyb7XYu",
        "colab": {
          "base_uri": "https://localhost:8080/"
        },
        "outputId": "8edc1fbb-b6b3-462c-ad97-20e00a30bb6c"
      },
      "source": [
        "# sentiment neutral score Feature\n",
        "\n",
        "from sklearn.preprocessing import Normalizer\n",
        "\n",
        "normalizer = Normalizer()\n",
        "normalizer.fit(X_train['neu_score'].values.reshape(1,-1)) \n",
        "neu_score_normalized_train = normalizer.transform(X_train['neu_score'].values.reshape(1, -1))\n",
        "normalizer.fit(X_test['neu_score'].values.reshape(1,-1)) \n",
        "neu_score_normalized_test = normalizer.transform(X_test['neu_score'].values.reshape(1, -1))\n",
        "#reshaping again after normalization\n",
        "#array.reshape(-1, 1) if your data has a single feature \n",
        "\n",
        "neu_score_normalized_train = neu_score_normalized_train.reshape(-1, 1)\n",
        "neu_score_normalized_test =  neu_score_normalized_test.reshape(-1, 1)\n",
        "\n",
        "print('After normalization')\n",
        "print(neu_score_normalized_train.shape)\n",
        "\n",
        "print(neu_score_normalized_test.shape)"
      ],
      "execution_count": 71,
      "outputs": [
        {
          "output_type": "stream",
          "name": "stdout",
          "text": [
            "After normalization\n",
            "(33500, 1)\n",
            "(16500, 1)\n"
          ]
        }
      ]
    },
    {
      "cell_type": "code",
      "metadata": {
        "id": "40WDMfpM7ped",
        "colab": {
          "base_uri": "https://localhost:8080/"
        },
        "outputId": "1dc43323-aa8f-43ac-a9be-c14ad04daa9c"
      },
      "source": [
        "# sentiment compound score Feature\n",
        "\n",
        "from sklearn.preprocessing import Normalizer\n",
        "\n",
        "normalizer = Normalizer()\n",
        "normalizer.fit(X_train['compound_score'].values.reshape(1,-1)) \n",
        "compound_score_normalized_train = normalizer.transform(X_train['compound_score'].values.reshape(1, -1))\n",
        "normalizer.fit(X_test['compound_score'].values.reshape(1,-1)) \n",
        "compound_score_normalized_test = normalizer.transform(X_test['compound_score'].values.reshape(1, -1))\n",
        "#reshaping again after normalization\n",
        "#array.reshape(-1, 1) if your data has a single feature \n",
        "\n",
        "compound_score_normalized_train = compound_score_normalized_train.reshape(-1, 1)\n",
        "compound_score_normalized_test =  compound_score_normalized_test.reshape(-1, 1)\n",
        "\n",
        "print('After normalization')\n",
        "print(compound_score_normalized_train.shape)\n",
        "\n",
        "print(compound_score_normalized_test.shape)"
      ],
      "execution_count": 72,
      "outputs": [
        {
          "output_type": "stream",
          "name": "stdout",
          "text": [
            "After normalization\n",
            "(33500, 1)\n",
            "(16500, 1)\n"
          ]
        }
      ]
    },
    {
      "cell_type": "markdown",
      "metadata": {
        "id": "r3FSJ6S_581a"
      },
      "source": [
        "# Categorical Features + Numerical Features + TFIDF weighted W2V"
      ]
    },
    {
      "cell_type": "code",
      "source": [
        "# merge all the features of train and test using hstack\n",
        "\n",
        "from scipy.sparse import hstack\n",
        "\n",
        "X_set1_train = np.hstack((train_project_subject_categories_one_hot, train_project_subject_subcategories_one_hot, train_weighted_w2v_preprocessed_essays, train_weighted_w2v_preprocessed_titles, train_school_state_one_hot,train_teacher_prefix_one_hot, train_project_grade_category_one_hot, teacher_number_of_previously_posted_projects_normalized_train, price_normalized_train, neg_score_normalized_train,pos_score_normalized_train,neu_score_normalized_train,compound_score_normalized_train))\n",
        "\n",
        "X_set1_test = np.hstack((test_project_subject_categories_one_hot, test_project_subject_subcategories_one_hot, test_weighted_w2v_preprocessed_essays, test_weighted_w2v_preprocessed_titles, test_school_state_one_hot,test_teacher_prefix_one_hot, test_project_grade_category_one_hot, teacher_number_of_previously_posted_projects_normalized_test, price_normalized_test,neg_score_normalized_test,pos_score_normalized_test,neu_score_normalized_test,compound_score_normalized_test))\n",
        "\n",
        "print(X_set1_train.shape)\n",
        "print(X_set1_test.shape)"
      ],
      "metadata": {
        "id": "S83ZBw1uWq2Z",
        "colab": {
          "base_uri": "https://localhost:8080/"
        },
        "outputId": "4769f6a2-6814-47da-b12f-0beb2ec24e85"
      },
      "execution_count": 73,
      "outputs": [
        {
          "output_type": "stream",
          "name": "stdout",
          "text": [
            "(33500, 616)\n",
            "(16500, 616)\n"
          ]
        }
      ]
    },
    {
      "cell_type": "code",
      "source": [
        "# Use GridSearchCV to get the best value of our hyper - parameter (alpha)\n",
        "from sklearn.model_selection import RandomizedSearchCV\n",
        "from sklearn.tree import DecisionTreeClassifier\n",
        "\n",
        "model = DecisionTreeClassifier()\n",
        "\n",
        "parameters = {'max_depth':[1,5,10,50],'min_samples_split':[5,10,100,500]}\n",
        "\n",
        "clf = RandomizedSearchCV(model,parameters,n_jobs=-1,cv=5,scoring='roc_auc',return_train_score=True,verbose=10)\n",
        "\n",
        "clf.fit(X_set1_train,y_train)"
      ],
      "metadata": {
        "colab": {
          "base_uri": "https://localhost:8080/"
        },
        "id": "Ia74XFGI0bdi",
        "outputId": "3bfac4c3-5525-4ef8-f54e-704b42c193d6"
      },
      "execution_count": 76,
      "outputs": [
        {
          "metadata": {
            "tags": null
          },
          "name": "stdout",
          "output_type": "stream",
          "text": [
            "Fitting 5 folds for each of 10 candidates, totalling 50 fits\n"
          ]
        },
        {
          "output_type": "execute_result",
          "data": {
            "text/plain": [
              "RandomizedSearchCV(cv=5, estimator=DecisionTreeClassifier(), n_jobs=-1,\n",
              "                   param_distributions={'max_depth': [1, 5, 10, 50],\n",
              "                                        'min_samples_split': [5, 10, 100, 500]},\n",
              "                   return_train_score=True, scoring='roc_auc', verbose=10)"
            ]
          },
          "metadata": {},
          "execution_count": 76
        }
      ]
    },
    {
      "cell_type": "code",
      "source": [
        "#Output of GridSearchCV\n",
        "\n",
        "print('Best score: ',clf.best_score_)\n",
        "print('Best params: ',clf.best_params_)"
      ],
      "metadata": {
        "colab": {
          "base_uri": "https://localhost:8080/"
        },
        "id": "tTMnfEga0hSg",
        "outputId": "8a5a5fb8-8ab6-4d3e-859d-b19c9f90d63d"
      },
      "execution_count": 78,
      "outputs": [
        {
          "output_type": "stream",
          "name": "stdout",
          "text": [
            "Best score:  0.6236383873345294\n",
            "Best params:  {'min_samples_split': 5, 'max_depth': 5}\n"
          ]
        }
      ]
    },
    {
      "cell_type": "code",
      "source": [
        "# Get the best values for max_depth and min_samples_split\n",
        "\n",
        "best_params = clf.best_params_\n",
        "\n",
        "print(\"best value for max_depth - \",best_params['max_depth'])\n",
        "print(\"best value for min_samples_split - \",best_params['min_samples_split'])"
      ],
      "metadata": {
        "colab": {
          "base_uri": "https://localhost:8080/"
        },
        "id": "o1GZ8IVB6TXa",
        "outputId": "0b035044-1654-4a48-9760-9627c466668c"
      },
      "execution_count": 79,
      "outputs": [
        {
          "output_type": "stream",
          "name": "stdout",
          "text": [
            "best value for max_depth -  5\n",
            "best value for min_samples_split -  5\n"
          ]
        }
      ]
    },
    {
      "cell_type": "code",
      "source": [
        "# Apply Decision Tree Classifier on these feature sets\n",
        "\n",
        "model_tfid_w2v = DecisionTreeClassifier(max_depth=best_params['max_depth'],min_samples_split=best_params['min_samples_split'])\n",
        "model_tfid_w2v.fit(X_set1_train,y_train)"
      ],
      "metadata": {
        "colab": {
          "base_uri": "https://localhost:8080/"
        },
        "id": "wvxLYUgb6o0n",
        "outputId": "b6805d09-d7f6-4a75-aa01-0c0d922136bb"
      },
      "execution_count": 80,
      "outputs": [
        {
          "output_type": "execute_result",
          "data": {
            "text/plain": [
              "DecisionTreeClassifier(max_depth=5, min_samples_split=5)"
            ]
          },
          "metadata": {},
          "execution_count": 80
        }
      ]
    },
    {
      "cell_type": "code",
      "source": [
        "# ROC-AUC curve uses predicted probabilities. \n",
        "\n",
        "y_train_pred = model_tfid_w2v.predict_proba(X_set1_train)[:,1]\n",
        "y_test_pred = model_tfid_w2v.predict_proba(X_set1_test)[:,1]"
      ],
      "metadata": {
        "id": "PQPoSbEv6raV"
      },
      "execution_count": 81,
      "outputs": []
    },
    {
      "cell_type": "code",
      "source": [
        "train_fpr, train_tpr, tr_thresholds = roc_curve(y_train, y_train_pred)\n",
        "test_fpr, test_tpr, te_thresholds = roc_curve(y_test, y_test_pred)\n",
        "\n",
        "plt.plot(train_fpr, train_tpr, label=\"train AUC =\"+str(auc(train_fpr, train_tpr)))\n",
        "plt.plot(test_fpr, test_tpr, label=\"test AUC =\"+str(auc(test_fpr, test_tpr)))\n",
        "plt.legend()\n",
        "plt.xlabel(\"max_depth: hyperparameter\")\n",
        "plt.ylabel(\"AUC\")\n",
        "plt.title(\"ERROR PLOTS\")\n",
        "plt.grid(\"whitegrid\")\n",
        "plt.show()"
      ],
      "metadata": {
        "colab": {
          "base_uri": "https://localhost:8080/",
          "height": 296
        },
        "id": "vHkWKuLG65wA",
        "outputId": "7576896d-9549-409d-b68b-1de9590621fa"
      },
      "execution_count": 82,
      "outputs": [
        {
          "output_type": "display_data",
          "data": {
            "text/plain": [
              "<Figure size 432x288 with 1 Axes>"
            ],
            "image/png": "[encoded data removed]"
          },
          "metadata": {
            "needs_background": "light"
          }
        }
      ]
    },
    {
      "cell_type": "code",
      "metadata": {
        "id": "YGsNYMSozBsu"
      },
      "source": [
        "# we are writing our own function for predict, with defined thresould\n",
        "# we will pick a threshold that will give the least fpr\n",
        "def find_best_threshold(threshold, fpr, tpr):\n",
        "    t = threshold[np.argmax(tpr*(1-fpr))]\n",
        "    # (tpr*(1-fpr)) will be maximum if your fpr is very low and tpr is very high\n",
        "    print(\"the maximum value of tpr*(1-fpr)\", max(tpr*(1-fpr)), \"for threshold\", np.round(t,3))\n",
        "    return t\n",
        "\n",
        "def predict_with_best_t(proba, threshold):\n",
        "    predictions = []\n",
        "    global test_predictions\n",
        "    for i in proba:\n",
        "        if i>=threshold:\n",
        "            predictions.append(1)\n",
        "        else:\n",
        "            predictions.append(0)\n",
        "    test_predictions = predictions        \n",
        "    return predictions"
      ],
      "execution_count": 85,
      "outputs": []
    },
    {
      "cell_type": "code",
      "metadata": {
        "id": "8rQJTzS71vwv",
        "outputId": "50623ef2-d9e8-46d4-ae1b-5d983c21d31d",
        "colab": {
          "base_uri": "https://localhost:8080/"
        }
      },
      "source": [
        "# Plot the confusion matrix\n",
        "\n",
        "from sklearn.metrics import confusion_matrix\n",
        "\n",
        "best_threshold = find_best_threshold(tr_thresholds,train_fpr,train_tpr)\n",
        "\n",
        "print(\"Train Confusion Matrix\")\n",
        "print(confusion_matrix(y_train,predict_with_best_t(y_train_pred,best_threshold)))\n",
        "print(\"Test Confusion Matrix\")\n",
        "print(confusion_matrix(y_test,predict_with_best_t(y_test_pred,best_threshold)))"
      ],
      "execution_count": 86,
      "outputs": [
        {
          "output_type": "stream",
          "name": "stdout",
          "text": [
            "the maximum value of tpr*(1-fpr) 0.3879374873514354 for threshold 0.863\n",
            "Train Confusion Matrix\n",
            "[[ 3335  1833]\n",
            " [11300 17032]]\n",
            "Test Confusion Matrix\n",
            "[[1540 1006]\n",
            " [5697 8257]]\n"
          ]
        }
      ]
    },
    {
      "cell_type": "code",
      "metadata": {
        "id": "hv63UMlF2AXj",
        "outputId": "7a57db94-2338-4a1a-e5ad-a50856be00e1",
        "colab": {
          "base_uri": "https://localhost:8080/",
          "height": 330
        }
      },
      "source": [
        "# Plot Confusion Matrix using heat map\n",
        "# https://stackoverflow.com/questions/35572000/how-can-i-plot-a-confusion-matrix\n",
        "\n",
        "print(\"Train data confusion matrix\")\n",
        "\n",
        "confusion_matrix_df_train = pd.DataFrame(confusion_matrix(y_train, predict_with_best_t(y_train_pred, best_threshold)), range(2),range(2))\n",
        "sns.set(font_scale=1.4)#for label size\n",
        "sns.heatmap(confusion_matrix_df_train, annot=True,annot_kws={\"size\": 16}, fmt='g')\n",
        "plt.ylabel('Predicted Values')\n",
        "plt.xlabel('Actual Values')"
      ],
      "execution_count": 87,
      "outputs": [
        {
          "output_type": "stream",
          "name": "stdout",
          "text": [
            "Train data confusion matrix\n"
          ]
        },
        {
          "output_type": "execute_result",
          "data": {
            "text/plain": [
              "Text(0.5, 7.5, 'Actual Values')"
            ]
          },
          "metadata": {},
          "execution_count": 87
        },
        {
          "output_type": "display_data",
          "data": {
            "text/plain": [
              "<Figure size 432x288 with 2 Axes>"
            ],
            "image/png": "[encoded data removed]"
          },
          "metadata": {}
        }
      ]
    },
    {
      "cell_type": "code",
      "metadata": {
        "id": "RS3S9qXp32cQ",
        "outputId": "f18146a9-75df-4996-8223-80dba344e6b0",
        "colab": {
          "base_uri": "https://localhost:8080/",
          "height": 330
        }
      },
      "source": [
        "print(\"Test data confusion matrix\")\n",
        "\n",
        "confusion_matrix_df_train = pd.DataFrame(confusion_matrix(y_test, predict_with_best_t(y_test_pred, best_threshold)), range(2),range(2))\n",
        "sns.set(font_scale=1.4)#for label size\n",
        "sns.heatmap(confusion_matrix_df_train, annot=True,annot_kws={\"size\": 16}, fmt='g')\n",
        "plt.ylabel('Predicted Values')\n",
        "plt.xlabel('Actual Values')"
      ],
      "execution_count": 88,
      "outputs": [
        {
          "output_type": "stream",
          "name": "stdout",
          "text": [
            "Test data confusion matrix\n"
          ]
        },
        {
          "output_type": "execute_result",
          "data": {
            "text/plain": [
              "Text(0.5, 7.5, 'Actual Values')"
            ]
          },
          "metadata": {},
          "execution_count": 88
        },
        {
          "output_type": "display_data",
          "data": {
            "text/plain": [
              "<Figure size 432x288 with 2 Axes>"
            ],
            "image/png": "[encoded data removed]"
          },
          "metadata": {}
        }
      ]
    },
    {
      "cell_type": "code",
      "source": [
        "# Use GridSearchCV to get the best value of our hyper - parameter (alpha)\n",
        "from sklearn.model_selection import RandomizedSearchCV\n",
        "import lightgbm as lgb\n",
        "from lightgbm import LGBMModel,LGBMClassifier\n",
        "\n",
        "model = LGBMClassifier(class_weight='balanced')\n",
        "\n",
        "param_grid = {\"max_depth\":[1,5,10,50,100,500],\n",
        "              \"n_estimators\":[50,100,150,200,300]}\n",
        "\n",
        "clf = RandomizedSearchCV(model,param_grid,n_jobs=-1,cv=5,scoring='roc_auc',return_train_score=True,verbose=10)\n",
        "\n",
        "clf.fit(X_set1_train,y_train)"
      ],
      "metadata": {
        "colab": {
          "base_uri": "https://localhost:8080/"
        },
        "id": "xtI8KKmQ7EJA",
        "outputId": "4334be9c-e7cc-4669-e011-87a392c2e857"
      },
      "execution_count": 89,
      "outputs": [
        {
          "output_type": "stream",
          "name": "stdout",
          "text": [
            "Fitting 5 folds for each of 10 candidates, totalling 50 fits\n"
          ]
        },
        {
          "output_type": "execute_result",
          "data": {
            "text/plain": [
              "RandomizedSearchCV(cv=5, estimator=LGBMClassifier(class_weight='balanced'),\n",
              "                   n_jobs=-1,\n",
              "                   param_distributions={'max_depth': [1, 5, 10, 50, 100, 500],\n",
              "                                        'n_estimators': [50, 100, 150, 200,\n",
              "                                                         300]},\n",
              "                   return_train_score=True, scoring='roc_auc', verbose=10)"
            ]
          },
          "metadata": {},
          "execution_count": 89
        }
      ]
    },
    {
      "cell_type": "code",
      "source": [
        "#Output of GridSearchCV\n",
        "\n",
        "print('Best score: ',clf.best_score_)\n",
        "print('Best params: ',clf.best_params_)"
      ],
      "metadata": {
        "colab": {
          "base_uri": "https://localhost:8080/"
        },
        "id": "hGdqYW8_7veM",
        "outputId": "0a9e57b0-f831-4d19-aac3-13e398c75d05"
      },
      "execution_count": 90,
      "outputs": [
        {
          "output_type": "stream",
          "name": "stdout",
          "text": [
            "Best score:  0.699098829468655\n",
            "Best params:  {'n_estimators': 50, 'max_depth': 100}\n"
          ]
        }
      ]
    },
    {
      "cell_type": "code",
      "source": [
        "# Get the best values for max_depth and min_samples_split\n",
        "\n",
        "best_params = clf.best_params_\n",
        "\n",
        "print(\"best value for max_depth - \",best_params['max_depth'])\n",
        "print(\"best value for n_estimators - \",best_params['n_estimators'])"
      ],
      "metadata": {
        "colab": {
          "base_uri": "https://localhost:8080/"
        },
        "id": "0Re4C-giBq7j",
        "outputId": "b6d667b0-5340-4090-de62-4943ed77b916"
      },
      "execution_count": 91,
      "outputs": [
        {
          "output_type": "stream",
          "name": "stdout",
          "text": [
            "best value for max_depth -  100\n",
            "best value for n_estimators -  50\n"
          ]
        }
      ]
    },
    {
      "cell_type": "code",
      "source": [
        "# Apply Decision Tree Classifier on these feature sets\n",
        "\n",
        "model_tfid_w2v = LGBMClassifier(max_depth=best_params['max_depth'],n_estimators=best_params['n_estimators'],class_weight='balanced')\n",
        "model_tfid_w2v.fit(X_set1_train,y_train)"
      ],
      "metadata": {
        "colab": {
          "base_uri": "https://localhost:8080/"
        },
        "id": "HtbAqteJBuDW",
        "outputId": "ba818399-daac-46b1-ebae-c911b9c41fcf"
      },
      "execution_count": 92,
      "outputs": [
        {
          "output_type": "execute_result",
          "data": {
            "text/plain": [
              "LGBMClassifier(class_weight='balanced', max_depth=100, n_estimators=50)"
            ]
          },
          "metadata": {},
          "execution_count": 92
        }
      ]
    },
    {
      "cell_type": "code",
      "metadata": {
        "id": "Oebpk4Ubv79H"
      },
      "source": [
        "# ROC-AUC curve uses predicted probabilities. \n",
        "\n",
        "y_train_pred = model_tfid_w2v.predict_proba(X_set1_train)[:,1]\n",
        "y_test_pred = model_tfid_w2v.predict_proba(X_set1_test)[:,1]"
      ],
      "execution_count": 93,
      "outputs": []
    },
    {
      "cell_type": "code",
      "metadata": {
        "id": "2wW_gon7yzDm",
        "outputId": "d8376dad-c13f-492f-e15e-f88b0efce45b",
        "colab": {
          "base_uri": "https://localhost:8080/",
          "height": 315
        }
      },
      "source": [
        "train_fpr, train_tpr, tr_thresholds = roc_curve(y_train, y_train_pred)\n",
        "test_fpr, test_tpr, te_thresholds = roc_curve(y_test, y_test_pred)\n",
        "\n",
        "plt.plot(train_fpr, train_tpr, label=\"train AUC =\"+str(auc(train_fpr, train_tpr)))\n",
        "plt.plot(test_fpr, test_tpr, label=\"test AUC =\"+str(auc(test_fpr, test_tpr)))\n",
        "plt.legend()\n",
        "plt.xlabel(\"max_depth: hyperparameter\")\n",
        "plt.ylabel(\"AUC\")\n",
        "plt.title(\"ERROR PLOTS\")\n",
        "plt.grid(\"whitegrid\")\n",
        "plt.show()"
      ],
      "execution_count": 94,
      "outputs": [
        {
          "output_type": "display_data",
          "data": {
            "text/plain": [
              "<Figure size 432x288 with 1 Axes>"
            ],
            "image/png": "[encoded data removed]"
          },
          "metadata": {}
        }
      ]
    },
    {
      "cell_type": "code",
      "metadata": {
        "id": "Agyb58ulCgU8"
      },
      "source": [
        "# we are writing our own function for predict, with defined thresould\n",
        "# we will pick a threshold that will give the least fpr\n",
        "def find_best_threshold(threshold, fpr, tpr):\n",
        "    t = threshold[np.argmax(tpr*(1-fpr))]\n",
        "    # (tpr*(1-fpr)) will be maximum if your fpr is very low and tpr is very high\n",
        "    print(\"the maximum value of tpr*(1-fpr)\", max(tpr*(1-fpr)), \"for threshold\", np.round(t,3))\n",
        "    return t\n",
        "\n",
        "def predict_with_best_t(proba, threshold):\n",
        "    predictions = []\n",
        "    global test_predictions\n",
        "    for i in proba:\n",
        "        if i>=threshold:\n",
        "            predictions.append(1)\n",
        "        else:\n",
        "            predictions.append(0)\n",
        "    test_predictions = predictions        \n",
        "    return predictions"
      ],
      "execution_count": 95,
      "outputs": []
    },
    {
      "cell_type": "code",
      "metadata": {
        "outputId": "01b4f880-c114-4d31-f0bc-33142bd6e52c",
        "colab": {
          "base_uri": "https://localhost:8080/"
        },
        "id": "QyX6ldGeCgU8"
      },
      "source": [
        "# Plot the confusion matrix\n",
        "\n",
        "from sklearn.metrics import confusion_matrix\n",
        "\n",
        "best_threshold = find_best_threshold(tr_thresholds,train_fpr,train_tpr)\n",
        "\n",
        "print(\"Train Confusion Matrix\")\n",
        "print(confusion_matrix(y_train,predict_with_best_t(y_train_pred,best_threshold)))\n",
        "print(\"Test Confusion Matrix\")\n",
        "print(confusion_matrix(y_test,predict_with_best_t(y_test_pred,best_threshold)))"
      ],
      "execution_count": 96,
      "outputs": [
        {
          "output_type": "stream",
          "name": "stdout",
          "text": [
            "the maximum value of tpr*(1-fpr) 0.633687514997974 for threshold 0.493\n",
            "Train Confusion Matrix\n",
            "[[ 4224   944]\n",
            " [ 6366 21966]]\n",
            "Test Confusion Matrix\n",
            "[[  742  1804]\n",
            " [ 1286 12668]]\n"
          ]
        }
      ]
    },
    {
      "cell_type": "code",
      "metadata": {
        "outputId": "cd2f0ae5-24a7-4ea4-ae24-9bc87621a81f",
        "colab": {
          "base_uri": "https://localhost:8080/",
          "height": 330
        },
        "id": "6dej9kxLCgU8"
      },
      "source": [
        "# Plot Confusion Matrix using heat map\n",
        "# https://stackoverflow.com/questions/35572000/how-can-i-plot-a-confusion-matrix\n",
        "\n",
        "print(\"Train data confusion matrix\")\n",
        "\n",
        "confusion_matrix_df_train = pd.DataFrame(confusion_matrix(y_train, predict_with_best_t(y_train_pred, best_threshold)), range(2),range(2))\n",
        "sns.set(font_scale=1.4)#for label size\n",
        "sns.heatmap(confusion_matrix_df_train, annot=True,annot_kws={\"size\": 16}, fmt='g')\n",
        "plt.ylabel('Predicted Values')\n",
        "plt.xlabel('Actual Values')"
      ],
      "execution_count": 97,
      "outputs": [
        {
          "output_type": "stream",
          "name": "stdout",
          "text": [
            "Train data confusion matrix\n"
          ]
        },
        {
          "output_type": "execute_result",
          "data": {
            "text/plain": [
              "Text(0.5, 7.5, 'Actual Values')"
            ]
          },
          "metadata": {},
          "execution_count": 97
        },
        {
          "output_type": "display_data",
          "data": {
            "text/plain": [
              "<Figure size 432x288 with 2 Axes>"
            ],
            "image/png": "[encoded data removed]"
          },
          "metadata": {}
        }
      ]
    },
    {
      "cell_type": "code",
      "metadata": {
        "outputId": "b84de999-e843-4ebe-9be0-4819e88d5cb0",
        "colab": {
          "base_uri": "https://localhost:8080/",
          "height": 330
        },
        "id": "MC5yUuEoCgU9"
      },
      "source": [
        "print(\"Test data confusion matrix\")\n",
        "\n",
        "confusion_matrix_df_train = pd.DataFrame(confusion_matrix(y_test, predict_with_best_t(y_test_pred, best_threshold)), range(2),range(2))\n",
        "sns.set(font_scale=1.4)#for label size\n",
        "sns.heatmap(confusion_matrix_df_train, annot=True,annot_kws={\"size\": 16}, fmt='g')\n",
        "plt.ylabel('Predicted Values')\n",
        "plt.xlabel('Actual Values')"
      ],
      "execution_count": 98,
      "outputs": [
        {
          "output_type": "stream",
          "name": "stdout",
          "text": [
            "Test data confusion matrix\n"
          ]
        },
        {
          "output_type": "execute_result",
          "data": {
            "text/plain": [
              "Text(0.5, 7.5, 'Actual Values')"
            ]
          },
          "metadata": {},
          "execution_count": 98
        },
        {
          "output_type": "display_data",
          "data": {
            "text/plain": [
              "<Figure size 432x288 with 2 Axes>"
            ],
            "image/png": "[encoded data removed]"
          },
          "metadata": {}
        }
      ]
    }
  ]
}